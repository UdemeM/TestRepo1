{
  "metadata": {
    "kernelspec": {
      "name": "python",
      "display_name": "Python (Pyodide)",
      "language": "python"
    },
    "language_info": {
      "codemirror_mode": {
        "name": "python",
        "version": 3
      },
      "file_extension": ".py",
      "mimetype": "text/x-python",
      "name": "python",
      "nbconvert_exporter": "python",
      "pygments_lexer": "ipython3",
      "version": "3.8"
    },
    "prev_pub_hash": "f3a975115a2da354291efb612386314ee2abe0082874d4754d94eb94f03a1025"
  },
  "nbformat_minor": 4,
  "nbformat": 4,
  "cells": [
    {
      "cell_type": "markdown",
      "source": "<p style=\"text-align:center\">\n    <a href=\"https://skills.network/?utm_medium=Exinfluencer&utm_source=Exinfluencer&utm_content=000026UJ&utm_term=10006555&utm_id=NA-SkillsNetwork-Channel-SkillsNetworkCoursesIBMDS0321ENSkillsNetwork26802033-2022-01-01\" target=\"_blank\">\n    <img src=\"https://cf-courses-data.s3.us.cloud-object-storage.appdomain.cloud/assets/logos/SN_web_lightmode.png\" width=\"200\" alt=\"Skills Network Logo\">\n    </a>\n</p>\n",
      "metadata": {}
    },
    {
      "cell_type": "markdown",
      "source": "# **Launch Sites Locations Analysis with Folium**\n",
      "metadata": {}
    },
    {
      "cell_type": "markdown",
      "source": "Estimated time needed: **40** minutes\n",
      "metadata": {}
    },
    {
      "cell_type": "markdown",
      "source": "The launch success rate may depend on many factors such as payload mass, orbit type, and so on. It may also depend on the location and proximities of a launch site, i.e., the initial position of rocket trajectories. Finding an optimal location for building a launch site certainly involves many factors and hopefully we could discover some of the factors by analyzing the existing launch site locations.\n",
      "metadata": {}
    },
    {
      "cell_type": "markdown",
      "source": "In the previous exploratory data analysis labs, you have visualized the SpaceX launch dataset using `matplotlib` and `seaborn` and discovered some preliminary correlations between the launch site and success rates. In this lab, you will be performing more interactive visual analytics using `Folium`.\n",
      "metadata": {}
    },
    {
      "cell_type": "markdown",
      "source": "## Objectives\n",
      "metadata": {}
    },
    {
      "cell_type": "markdown",
      "source": "This lab contains the following tasks:\n\n*   **TASK 1:** Mark all launch sites on a map\n*   **TASK 2:** Mark the success/failed launches for each site on the map\n*   **TASK 3:** Calculate the distances between a launch site to its proximities\n\nAfter completed the above tasks, you should be able to find some geographical patterns about launch sites.\n",
      "metadata": {}
    },
    {
      "cell_type": "markdown",
      "source": "Let's first import required Python packages for this lab:\n",
      "metadata": {}
    },
    {
      "cell_type": "code",
      "source": "import piplite\nawait piplite.install(['folium'])\nawait piplite.install(['pandas'])",
      "metadata": {
        "trusted": true
      },
      "outputs": [],
      "execution_count": 2
    },
    {
      "cell_type": "code",
      "source": "import folium\nimport pandas as pd",
      "metadata": {
        "trusted": true
      },
      "outputs": [],
      "execution_count": 3
    },
    {
      "cell_type": "code",
      "source": "# Import folium MarkerCluster plugin\nfrom folium.plugins import MarkerCluster\n# Import folium MousePosition plugin\nfrom folium.plugins import MousePosition\n# Import folium DivIcon plugin\nfrom folium.features import DivIcon",
      "metadata": {
        "trusted": true
      },
      "outputs": [],
      "execution_count": 4
    },
    {
      "cell_type": "markdown",
      "source": "If you need to refresh your memory about folium, you may download and refer to this previous folium lab:\n",
      "metadata": {}
    },
    {
      "cell_type": "markdown",
      "source": "[Generating Maps with Python](https://cf-courses-data.s3.us.cloud-object-storage.appdomain.cloud/IBMDeveloperSkillsNetwork-DV0101EN-SkillsNetwork/labs/v4/DV0101EN-Exercise-Generating-Maps-in-Python.ipynb)\n",
      "metadata": {}
    },
    {
      "cell_type": "code",
      "source": "## Task 1: Mark all launch sites on a map\n\n# Dataframe with launch sites and their coordinates\ndata = {\n    'Launch Site': ['CCAFS LC-40', 'CCAFS SLC-40', 'KSC LC-39A', 'VAFB SLC-4E'],\n    'Lat': [28.562302, 28.563197, 28.573255, 34.632834],\n    'Long': [-80.577356, -80.576820, -80.646895, -120.610745]\n}\ndf = pd.DataFrame(data)\n\n# Create a map centered around the average latitude and longitude\nlaunch_map = folium.Map(location=[df['Lat'].mean(), df['Long'].mean()], zoom_start=5)\n\n# Add markers for each launch site\nfor _, row in df.iterrows():\n    folium.Marker(\n        location=[row['Lat'], row['Long']],\n        popup=row['Launch Site'],\n    ).add_to(launch_map)\n\n# Display the map\nlaunch_map\n",
      "metadata": {
        "trusted": true
      },
      "outputs": [
        {
          "execution_count": 9,
          "output_type": "execute_result",
          "data": {
            "text/plain": "<folium.folium.Map at 0x5a9f738>",
            "text/html": "<div style=\"width:100%;\"><div style=\"position:relative;width:100%;height:0;padding-bottom:60%;\"><span style=\"color:#565656\">Make this Notebook Trusted to load map: File -> Trust Notebook</span><iframe srcdoc=\"&lt;!DOCTYPE html&gt;\n&lt;html&gt;\n&lt;head&gt;\n    \n    &lt;meta http-equiv=&quot;content-type&quot; content=&quot;text/html; charset=UTF-8&quot; /&gt;\n    \n        &lt;script&gt;\n            L_NO_TOUCH = false;\n            L_DISABLE_3D = false;\n        &lt;/script&gt;\n    \n    &lt;style&gt;html, body {width: 100%;height: 100%;margin: 0;padding: 0;}&lt;/style&gt;\n    &lt;style&gt;#map {position:absolute;top:0;bottom:0;right:0;left:0;}&lt;/style&gt;\n    &lt;script src=&quot;https://cdn.jsdelivr.net/npm/leaflet@1.9.3/dist/leaflet.js&quot;&gt;&lt;/script&gt;\n    &lt;script src=&quot;https://code.jquery.com/jquery-3.7.1.min.js&quot;&gt;&lt;/script&gt;\n    &lt;script src=&quot;https://cdn.jsdelivr.net/npm/bootstrap@5.2.2/dist/js/bootstrap.bundle.min.js&quot;&gt;&lt;/script&gt;\n    &lt;script src=&quot;https://cdnjs.cloudflare.com/ajax/libs/Leaflet.awesome-markers/2.0.2/leaflet.awesome-markers.js&quot;&gt;&lt;/script&gt;\n    &lt;link rel=&quot;stylesheet&quot; href=&quot;https://cdn.jsdelivr.net/npm/leaflet@1.9.3/dist/leaflet.css&quot;/&gt;\n    &lt;link rel=&quot;stylesheet&quot; href=&quot;https://cdn.jsdelivr.net/npm/bootstrap@5.2.2/dist/css/bootstrap.min.css&quot;/&gt;\n    &lt;link rel=&quot;stylesheet&quot; href=&quot;https://netdna.bootstrapcdn.com/bootstrap/3.0.0/css/bootstrap-glyphicons.css&quot;/&gt;\n    &lt;link rel=&quot;stylesheet&quot; href=&quot;https://cdn.jsdelivr.net/npm/@fortawesome/fontawesome-free@6.2.0/css/all.min.css&quot;/&gt;\n    &lt;link rel=&quot;stylesheet&quot; href=&quot;https://cdnjs.cloudflare.com/ajax/libs/Leaflet.awesome-markers/2.0.2/leaflet.awesome-markers.css&quot;/&gt;\n    &lt;link rel=&quot;stylesheet&quot; href=&quot;https://cdn.jsdelivr.net/gh/python-visualization/folium/folium/templates/leaflet.awesome.rotate.min.css&quot;/&gt;\n    \n            &lt;meta name=&quot;viewport&quot; content=&quot;width=device-width,\n                initial-scale=1.0, maximum-scale=1.0, user-scalable=no&quot; /&gt;\n            &lt;style&gt;\n                #map_dda1b15df98f909f5d28ca4eea7cacce {\n                    position: relative;\n                    width: 100.0%;\n                    height: 100.0%;\n                    left: 0.0%;\n                    top: 0.0%;\n                }\n                .leaflet-container { font-size: 1rem; }\n            &lt;/style&gt;\n        \n&lt;/head&gt;\n&lt;body&gt;\n    \n    \n            &lt;div class=&quot;folium-map&quot; id=&quot;map_dda1b15df98f909f5d28ca4eea7cacce&quot; &gt;&lt;/div&gt;\n        \n&lt;/body&gt;\n&lt;script&gt;\n    \n    \n            var map_dda1b15df98f909f5d28ca4eea7cacce = L.map(\n                &quot;map_dda1b15df98f909f5d28ca4eea7cacce&quot;,\n                {\n                    center: [30.082897, -90.602954],\n                    crs: L.CRS.EPSG3857,\n                    zoom: 5,\n                    zoomControl: true,\n                    preferCanvas: false,\n                }\n            );\n\n            \n\n        \n    \n            var tile_layer_9e5c93e1cbca46ce6ee347362e3681a0 = L.tileLayer(\n                &quot;https://tile.openstreetmap.org/{z}/{x}/{y}.png&quot;,\n                {&quot;attribution&quot;: &quot;\\u0026copy; \\u003ca href=\\&quot;https://www.openstreetmap.org/copyright\\&quot;\\u003eOpenStreetMap\\u003c/a\\u003e contributors&quot;, &quot;detectRetina&quot;: false, &quot;maxNativeZoom&quot;: 19, &quot;maxZoom&quot;: 19, &quot;minZoom&quot;: 0, &quot;noWrap&quot;: false, &quot;opacity&quot;: 1, &quot;subdomains&quot;: &quot;abc&quot;, &quot;tms&quot;: false}\n            );\n        \n    \n            tile_layer_9e5c93e1cbca46ce6ee347362e3681a0.addTo(map_dda1b15df98f909f5d28ca4eea7cacce);\n        \n    \n            var marker_55f973bb40df2077f0522f68d6b6545d = L.marker(\n                [28.562302, -80.577356],\n                {}\n            ).addTo(map_dda1b15df98f909f5d28ca4eea7cacce);\n        \n    \n        var popup_36c649c1d08cb15fb9e5c3285bd43383 = L.popup({&quot;maxWidth&quot;: &quot;100%&quot;});\n\n        \n            \n                var html_d2818f3d5ab6ad0b2527066531099c29 = $(`&lt;div id=&quot;html_d2818f3d5ab6ad0b2527066531099c29&quot; style=&quot;width: 100.0%; height: 100.0%;&quot;&gt;CCAFS LC-40&lt;/div&gt;`)[0];\n                popup_36c649c1d08cb15fb9e5c3285bd43383.setContent(html_d2818f3d5ab6ad0b2527066531099c29);\n            \n        \n\n        marker_55f973bb40df2077f0522f68d6b6545d.bindPopup(popup_36c649c1d08cb15fb9e5c3285bd43383)\n        ;\n\n        \n    \n    \n            var marker_a4355b0ee5f2e1a1d1499fdbbcdbfc1e = L.marker(\n                [28.563197, -80.57682],\n                {}\n            ).addTo(map_dda1b15df98f909f5d28ca4eea7cacce);\n        \n    \n        var popup_6d7a50bbef81beeeeb51b27ea63b21a8 = L.popup({&quot;maxWidth&quot;: &quot;100%&quot;});\n\n        \n            \n                var html_1532bc5bcbd5c3d9fa1e463e18690bba = $(`&lt;div id=&quot;html_1532bc5bcbd5c3d9fa1e463e18690bba&quot; style=&quot;width: 100.0%; height: 100.0%;&quot;&gt;CCAFS SLC-40&lt;/div&gt;`)[0];\n                popup_6d7a50bbef81beeeeb51b27ea63b21a8.setContent(html_1532bc5bcbd5c3d9fa1e463e18690bba);\n            \n        \n\n        marker_a4355b0ee5f2e1a1d1499fdbbcdbfc1e.bindPopup(popup_6d7a50bbef81beeeeb51b27ea63b21a8)\n        ;\n\n        \n    \n    \n            var marker_a73d67b7ca790b7a8cee2026881a088b = L.marker(\n                [28.573255, -80.646895],\n                {}\n            ).addTo(map_dda1b15df98f909f5d28ca4eea7cacce);\n        \n    \n        var popup_5e622e7314f29cf768542c4b6d715103 = L.popup({&quot;maxWidth&quot;: &quot;100%&quot;});\n\n        \n            \n                var html_49328271e9ce518c1998fbdddabb6125 = $(`&lt;div id=&quot;html_49328271e9ce518c1998fbdddabb6125&quot; style=&quot;width: 100.0%; height: 100.0%;&quot;&gt;KSC LC-39A&lt;/div&gt;`)[0];\n                popup_5e622e7314f29cf768542c4b6d715103.setContent(html_49328271e9ce518c1998fbdddabb6125);\n            \n        \n\n        marker_a73d67b7ca790b7a8cee2026881a088b.bindPopup(popup_5e622e7314f29cf768542c4b6d715103)\n        ;\n\n        \n    \n    \n            var marker_ce88f2df281fb7a0b1d5f4ef19af57fe = L.marker(\n                [34.632834, -120.610745],\n                {}\n            ).addTo(map_dda1b15df98f909f5d28ca4eea7cacce);\n        \n    \n        var popup_5a0cba5866581c597b55053bcd2ce88e = L.popup({&quot;maxWidth&quot;: &quot;100%&quot;});\n\n        \n            \n                var html_ac771e847efc220fb63404ab51251575 = $(`&lt;div id=&quot;html_ac771e847efc220fb63404ab51251575&quot; style=&quot;width: 100.0%; height: 100.0%;&quot;&gt;VAFB SLC-4E&lt;/div&gt;`)[0];\n                popup_5a0cba5866581c597b55053bcd2ce88e.setContent(html_ac771e847efc220fb63404ab51251575);\n            \n        \n\n        marker_ce88f2df281fb7a0b1d5f4ef19af57fe.bindPopup(popup_5a0cba5866581c597b55053bcd2ce88e)\n        ;\n\n        \n    \n&lt;/script&gt;\n&lt;/html&gt;\" style=\"position:absolute;width:100%;height:100%;left:0;top:0;border:none !important;\" allowfullscreen webkitallowfullscreen mozallowfullscreen></iframe></div></div>"
          },
          "metadata": {}
        }
      ],
      "execution_count": 9
    },
    {
      "cell_type": "markdown",
      "source": "First, let's try to add each site's location on a map using site's latitude and longitude coordinates\n",
      "metadata": {}
    },
    {
      "cell_type": "markdown",
      "source": "The following dataset with the name `spacex_launch_geo.csv` is an augmented dataset with latitude and longitude added for each site.\n",
      "metadata": {}
    },
    {
      "cell_type": "code",
      "source": "# Download and read the `spacex_launch_geo.csv`\nfrom js import fetch\nimport io\n\nURL = 'https://cf-courses-data.s3.us.cloud-object-storage.appdomain.cloud/IBM-DS0321EN-SkillsNetwork/datasets/spacex_launch_geo.csv'\nresp = await fetch(URL)\nspacex_csv_file = io.BytesIO((await resp.arrayBuffer()).to_py())\nspacex_df=pd.read_csv(spacex_csv_file)",
      "metadata": {
        "trusted": true
      },
      "outputs": [],
      "execution_count": 5
    },
    {
      "cell_type": "markdown",
      "source": "Now, you can take a look at what are the coordinates for each site.\n",
      "metadata": {}
    },
    {
      "cell_type": "code",
      "source": "# Select relevant sub-columns: `Launch Site`, `Lat(Latitude)`, `Long(Longitude)`, `class`\nspacex_df = spacex_df[['Launch Site', 'Lat', 'Long', 'class']]\nlaunch_sites_df = spacex_df.groupby(['Launch Site'], as_index=False).first()\nlaunch_sites_df = launch_sites_df[['Launch Site', 'Lat', 'Long']]\nlaunch_sites_df",
      "metadata": {
        "trusted": true
      },
      "outputs": [
        {
          "execution_count": 6,
          "output_type": "execute_result",
          "data": {
            "text/plain": "    Launch Site        Lat        Long\n0   CCAFS LC-40  28.562302  -80.577356\n1  CCAFS SLC-40  28.563197  -80.576820\n2    KSC LC-39A  28.573255  -80.646895\n3   VAFB SLC-4E  34.632834 -120.610745",
            "text/html": "<div>\n<style scoped>\n    .dataframe tbody tr th:only-of-type {\n        vertical-align: middle;\n    }\n\n    .dataframe tbody tr th {\n        vertical-align: top;\n    }\n\n    .dataframe thead th {\n        text-align: right;\n    }\n</style>\n<table border=\"1\" class=\"dataframe\">\n  <thead>\n    <tr style=\"text-align: right;\">\n      <th></th>\n      <th>Launch Site</th>\n      <th>Lat</th>\n      <th>Long</th>\n    </tr>\n  </thead>\n  <tbody>\n    <tr>\n      <th>0</th>\n      <td>CCAFS LC-40</td>\n      <td>28.562302</td>\n      <td>-80.577356</td>\n    </tr>\n    <tr>\n      <th>1</th>\n      <td>CCAFS SLC-40</td>\n      <td>28.563197</td>\n      <td>-80.576820</td>\n    </tr>\n    <tr>\n      <th>2</th>\n      <td>KSC LC-39A</td>\n      <td>28.573255</td>\n      <td>-80.646895</td>\n    </tr>\n    <tr>\n      <th>3</th>\n      <td>VAFB SLC-4E</td>\n      <td>34.632834</td>\n      <td>-120.610745</td>\n    </tr>\n  </tbody>\n</table>\n</div>"
          },
          "metadata": {}
        }
      ],
      "execution_count": 6
    },
    {
      "cell_type": "markdown",
      "source": "Above coordinates are just plain numbers that can not give you any intuitive insights about where are those launch sites. If you are very good at geography, you can interpret those numbers directly in your mind. If not, that's fine too. Let's visualize those locations by pinning them on a map.\n",
      "metadata": {}
    },
    {
      "cell_type": "markdown",
      "source": "We first need to create a folium `Map` object, with an initial center location to be NASA Johnson Space Center at Houston, Texas.\n",
      "metadata": {}
    },
    {
      "cell_type": "code",
      "source": "# Start location is NASA Johnson Space Center\nnasa_coordinate = [29.559684888503615, -95.0830971930759]\nsite_map = folium.Map(location=nasa_coordinate, zoom_start=10)",
      "metadata": {
        "trusted": true
      },
      "outputs": [],
      "execution_count": 11
    },
    {
      "cell_type": "markdown",
      "source": "We could use `folium.Circle` to add a highlighted circle area with a text label on a specific coordinate. For example,\n",
      "metadata": {}
    },
    {
      "cell_type": "code",
      "source": "# Create a blue circle at NASA Johnson Space Center's coordinate with a popup label showing its name\ncircle = folium.Circle(nasa_coordinate, radius=1000, color='#d35400', fill=True).add_child(folium.Popup('NASA Johnson Space Center'))\n# Create a blue circle at NASA Johnson Space Center's coordinate with a icon showing its name\nmarker = folium.map.Marker(\n    nasa_coordinate,\n    # Create an icon as a text label\n    icon=DivIcon(\n        icon_size=(20,20),\n        icon_anchor=(0,0),\n        html='<div style=\"font-size: 12; color:#d35400;\"><b>%s</b></div>' % 'NASA JSC',\n        )\n    )\nsite_map.add_child(circle)\nsite_map.add_child(marker)",
      "metadata": {
        "trusted": true
      },
      "outputs": [
        {
          "execution_count": 10,
          "output_type": "execute_result",
          "data": {
            "text/plain": "<folium.folium.Map at 0x2545728>",
            "text/html": "<div style=\"width:100%;\"><div style=\"position:relative;width:100%;height:0;padding-bottom:60%;\"><span style=\"color:#565656\">Make this Notebook Trusted to load map: File -> Trust Notebook</span><iframe srcdoc=\"&lt;!DOCTYPE html&gt;\n&lt;html&gt;\n&lt;head&gt;\n    \n    &lt;meta http-equiv=&quot;content-type&quot; content=&quot;text/html; charset=UTF-8&quot; /&gt;\n    \n        &lt;script&gt;\n            L_NO_TOUCH = false;\n            L_DISABLE_3D = false;\n        &lt;/script&gt;\n    \n    &lt;style&gt;html, body {width: 100%;height: 100%;margin: 0;padding: 0;}&lt;/style&gt;\n    &lt;style&gt;#map {position:absolute;top:0;bottom:0;right:0;left:0;}&lt;/style&gt;\n    &lt;script src=&quot;https://cdn.jsdelivr.net/npm/leaflet@1.9.3/dist/leaflet.js&quot;&gt;&lt;/script&gt;\n    &lt;script src=&quot;https://code.jquery.com/jquery-3.7.1.min.js&quot;&gt;&lt;/script&gt;\n    &lt;script src=&quot;https://cdn.jsdelivr.net/npm/bootstrap@5.2.2/dist/js/bootstrap.bundle.min.js&quot;&gt;&lt;/script&gt;\n    &lt;script src=&quot;https://cdnjs.cloudflare.com/ajax/libs/Leaflet.awesome-markers/2.0.2/leaflet.awesome-markers.js&quot;&gt;&lt;/script&gt;\n    &lt;link rel=&quot;stylesheet&quot; href=&quot;https://cdn.jsdelivr.net/npm/leaflet@1.9.3/dist/leaflet.css&quot;/&gt;\n    &lt;link rel=&quot;stylesheet&quot; href=&quot;https://cdn.jsdelivr.net/npm/bootstrap@5.2.2/dist/css/bootstrap.min.css&quot;/&gt;\n    &lt;link rel=&quot;stylesheet&quot; href=&quot;https://netdna.bootstrapcdn.com/bootstrap/3.0.0/css/bootstrap-glyphicons.css&quot;/&gt;\n    &lt;link rel=&quot;stylesheet&quot; href=&quot;https://cdn.jsdelivr.net/npm/@fortawesome/fontawesome-free@6.2.0/css/all.min.css&quot;/&gt;\n    &lt;link rel=&quot;stylesheet&quot; href=&quot;https://cdnjs.cloudflare.com/ajax/libs/Leaflet.awesome-markers/2.0.2/leaflet.awesome-markers.css&quot;/&gt;\n    &lt;link rel=&quot;stylesheet&quot; href=&quot;https://cdn.jsdelivr.net/gh/python-visualization/folium/folium/templates/leaflet.awesome.rotate.min.css&quot;/&gt;\n    \n            &lt;meta name=&quot;viewport&quot; content=&quot;width=device-width,\n                initial-scale=1.0, maximum-scale=1.0, user-scalable=no&quot; /&gt;\n            &lt;style&gt;\n                #map_088733e5b941a14e291b55c5570d0a22 {\n                    position: relative;\n                    width: 100.0%;\n                    height: 100.0%;\n                    left: 0.0%;\n                    top: 0.0%;\n                }\n                .leaflet-container { font-size: 1rem; }\n            &lt;/style&gt;\n        \n&lt;/head&gt;\n&lt;body&gt;\n    \n    \n            &lt;div class=&quot;folium-map&quot; id=&quot;map_088733e5b941a14e291b55c5570d0a22&quot; &gt;&lt;/div&gt;\n        \n&lt;/body&gt;\n&lt;script&gt;\n    \n    \n            var map_088733e5b941a14e291b55c5570d0a22 = L.map(\n                &quot;map_088733e5b941a14e291b55c5570d0a22&quot;,\n                {\n                    center: [29.559684888503615, -95.0830971930759],\n                    crs: L.CRS.EPSG3857,\n                    zoom: 10,\n                    zoomControl: true,\n                    preferCanvas: false,\n                }\n            );\n\n            \n\n        \n    \n            var tile_layer_72996bacf089ee965259efca35fb8868 = L.tileLayer(\n                &quot;https://tile.openstreetmap.org/{z}/{x}/{y}.png&quot;,\n                {&quot;attribution&quot;: &quot;\\u0026copy; \\u003ca href=\\&quot;https://www.openstreetmap.org/copyright\\&quot;\\u003eOpenStreetMap\\u003c/a\\u003e contributors&quot;, &quot;detectRetina&quot;: false, &quot;maxNativeZoom&quot;: 19, &quot;maxZoom&quot;: 19, &quot;minZoom&quot;: 0, &quot;noWrap&quot;: false, &quot;opacity&quot;: 1, &quot;subdomains&quot;: &quot;abc&quot;, &quot;tms&quot;: false}\n            );\n        \n    \n            tile_layer_72996bacf089ee965259efca35fb8868.addTo(map_088733e5b941a14e291b55c5570d0a22);\n        \n    \n            var circle_d0ee3fda891bc43717ae41ede04bcdf7 = L.circle(\n                [29.559684888503615, -95.0830971930759],\n                {&quot;bubblingMouseEvents&quot;: true, &quot;color&quot;: &quot;#d35400&quot;, &quot;dashArray&quot;: null, &quot;dashOffset&quot;: null, &quot;fill&quot;: true, &quot;fillColor&quot;: &quot;#d35400&quot;, &quot;fillOpacity&quot;: 0.2, &quot;fillRule&quot;: &quot;evenodd&quot;, &quot;lineCap&quot;: &quot;round&quot;, &quot;lineJoin&quot;: &quot;round&quot;, &quot;opacity&quot;: 1.0, &quot;radius&quot;: 1000, &quot;stroke&quot;: true, &quot;weight&quot;: 3}\n            ).addTo(map_088733e5b941a14e291b55c5570d0a22);\n        \n    \n        var popup_94db77025f1ebc4de9b6a0629e573733 = L.popup({&quot;maxWidth&quot;: &quot;100%&quot;});\n\n        \n            \n                var html_84323e17bfda8d53d0080773f4e4393b = $(`&lt;div id=&quot;html_84323e17bfda8d53d0080773f4e4393b&quot; style=&quot;width: 100.0%; height: 100.0%;&quot;&gt;NASA Johnson Space Center&lt;/div&gt;`)[0];\n                popup_94db77025f1ebc4de9b6a0629e573733.setContent(html_84323e17bfda8d53d0080773f4e4393b);\n            \n        \n\n        circle_d0ee3fda891bc43717ae41ede04bcdf7.bindPopup(popup_94db77025f1ebc4de9b6a0629e573733)\n        ;\n\n        \n    \n    \n            var marker_d5a14158d3c7eb546666a40e8ee4de91 = L.marker(\n                [29.559684888503615, -95.0830971930759],\n                {}\n            ).addTo(map_088733e5b941a14e291b55c5570d0a22);\n        \n    \n            var div_icon_80fafd571dc4cb00b15a661d0a1b29b6 = L.divIcon({&quot;className&quot;: &quot;empty&quot;, &quot;html&quot;: &quot;\\u003cdiv style=\\&quot;font-size: 12; color:#d35400;\\&quot;\\u003e\\u003cb\\u003eNASA JSC\\u003c/b\\u003e\\u003c/div\\u003e&quot;, &quot;iconAnchor&quot;: [0, 0], &quot;iconSize&quot;: [20, 20]});\n            marker_d5a14158d3c7eb546666a40e8ee4de91.setIcon(div_icon_80fafd571dc4cb00b15a661d0a1b29b6);\n        \n    \n            tile_layer_72996bacf089ee965259efca35fb8868.addTo(map_088733e5b941a14e291b55c5570d0a22);\n        \n    \n            var circle_e0dd7716626b0869020dbed8b7fed930 = L.circle(\n                [29.559684888503615, -95.0830971930759],\n                {&quot;bubblingMouseEvents&quot;: true, &quot;color&quot;: &quot;#d35400&quot;, &quot;dashArray&quot;: null, &quot;dashOffset&quot;: null, &quot;fill&quot;: true, &quot;fillColor&quot;: &quot;#d35400&quot;, &quot;fillOpacity&quot;: 0.2, &quot;fillRule&quot;: &quot;evenodd&quot;, &quot;lineCap&quot;: &quot;round&quot;, &quot;lineJoin&quot;: &quot;round&quot;, &quot;opacity&quot;: 1.0, &quot;radius&quot;: 1000, &quot;stroke&quot;: true, &quot;weight&quot;: 3}\n            ).addTo(map_088733e5b941a14e291b55c5570d0a22);\n        \n    \n        var popup_def2e6b3317e14e294eb95f2d0adb44e = L.popup({&quot;maxWidth&quot;: &quot;100%&quot;});\n\n        \n            \n                var html_c41891f83545565f3ab98c2c6cf8663e = $(`&lt;div id=&quot;html_c41891f83545565f3ab98c2c6cf8663e&quot; style=&quot;width: 100.0%; height: 100.0%;&quot;&gt;NASA Johnson Space Center&lt;/div&gt;`)[0];\n                popup_def2e6b3317e14e294eb95f2d0adb44e.setContent(html_c41891f83545565f3ab98c2c6cf8663e);\n            \n        \n\n        circle_e0dd7716626b0869020dbed8b7fed930.bindPopup(popup_def2e6b3317e14e294eb95f2d0adb44e)\n        ;\n\n        \n    \n    \n            var marker_1f6d43d7b0a222edd9d2d204aaf761b4 = L.marker(\n                [29.559684888503615, -95.0830971930759],\n                {}\n            ).addTo(map_088733e5b941a14e291b55c5570d0a22);\n        \n    \n            var div_icon_c9af53fafbc2610d76c13f4ce7831532 = L.divIcon({&quot;className&quot;: &quot;empty&quot;, &quot;html&quot;: &quot;\\u003cdiv style=\\&quot;font-size: 12; color:#d35400;\\&quot;\\u003e\\u003cb\\u003eNASA JSC\\u003c/b\\u003e\\u003c/div\\u003e&quot;, &quot;iconAnchor&quot;: [0, 0], &quot;iconSize&quot;: [20, 20]});\n            marker_1f6d43d7b0a222edd9d2d204aaf761b4.setIcon(div_icon_c9af53fafbc2610d76c13f4ce7831532);\n        \n&lt;/script&gt;\n&lt;/html&gt;\" style=\"position:absolute;width:100%;height:100%;left:0;top:0;border:none !important;\" allowfullscreen webkitallowfullscreen mozallowfullscreen></iframe></div></div>"
          },
          "metadata": {}
        }
      ],
      "execution_count": 10
    },
    {
      "cell_type": "markdown",
      "source": "and you should find a small yellow circle near the city of Houston and you can zoom-in to see a larger circle.\n",
      "metadata": {}
    },
    {
      "cell_type": "markdown",
      "source": "Now, let's add a circle for each launch site in data frame `launch_sites`\n",
      "metadata": {}
    },
    {
      "cell_type": "markdown",
      "source": "*TODO:*  Create and add `folium.Circle` and `folium.Marker` for each launch site on the site map\n",
      "metadata": {}
    },
    {
      "cell_type": "markdown",
      "source": "An example of folium.Circle:\n",
      "metadata": {}
    },
    {
      "cell_type": "markdown",
      "source": "`folium.Circle(coordinate, radius=1000, color='#000000', fill=True).add_child(folium.Popup(...))`\n",
      "metadata": {}
    },
    {
      "cell_type": "markdown",
      "source": "An example of folium.Marker:\n",
      "metadata": {}
    },
    {
      "cell_type": "markdown",
      "source": "`folium.map.Marker(coordinate, icon=DivIcon(icon_size=(20,20),icon_anchor=(0,0), html='<div style=\"font-size: 12; color:#d35400;\"><b>%s</b></div>' % 'label', ))`\n",
      "metadata": {}
    },
    {
      "cell_type": "code",
      "source": "# Initial the map\nsite_map = folium.Map(location=nasa_coordinate, zoom_start=5)\n# For each launch site, add a Circle object based on its coordinate (Lat, Long) values. In addition, add Launch site name as a popup label\n\n\n# Dataframe with launch sites and their coordinates\ndata = {\n    'Launch Site': ['CCAFS LC-40', 'CCAFS SLC-40', 'KSC LC-39A', 'VAFB SLC-4E'],\n    'Lat': [28.562302, 28.563197, 28.573255, 34.632834],\n    'Long': [-80.577356, -80.576820, -80.646895, -120.610745]\n}\ndf = pd.DataFrame(data)\n\n# Create a map centered around the average latitude and longitude\nlaunch_map = folium.Map(location=[df['Lat'].mean(), df['Long'].mean()], zoom_start=5)\n\n# Add markers and circles for each launch site\nfor _, row in df.iterrows():\n    # Add a marker\n    folium.Marker(\n        location=[row['Lat'], row['Long']],\n        popup=row['Launch Site'],\n    ).add_to(launch_map)\n    \n    # Add a circle\n    folium.Circle(\n        location=[row['Lat'], row['Long']],\n        radius=500,  # 500 meters radius\n        color='blue',\n        fill=True,\n        fill_color='blue',\n        fill_opacity=0.3\n    ).add_to(launch_map)\n\n# Display the map\nlaunch_map\n",
      "metadata": {
        "trusted": true
      },
      "outputs": [
        {
          "execution_count": 13,
          "output_type": "execute_result",
          "data": {
            "text/plain": "<folium.folium.Map at 0x5e6f7a0>",
            "text/html": "<div style=\"width:100%;\"><div style=\"position:relative;width:100%;height:0;padding-bottom:60%;\"><span style=\"color:#565656\">Make this Notebook Trusted to load map: File -> Trust Notebook</span><iframe srcdoc=\"&lt;!DOCTYPE html&gt;\n&lt;html&gt;\n&lt;head&gt;\n    \n    &lt;meta http-equiv=&quot;content-type&quot; content=&quot;text/html; charset=UTF-8&quot; /&gt;\n    \n        &lt;script&gt;\n            L_NO_TOUCH = false;\n            L_DISABLE_3D = false;\n        &lt;/script&gt;\n    \n    &lt;style&gt;html, body {width: 100%;height: 100%;margin: 0;padding: 0;}&lt;/style&gt;\n    &lt;style&gt;#map {position:absolute;top:0;bottom:0;right:0;left:0;}&lt;/style&gt;\n    &lt;script src=&quot;https://cdn.jsdelivr.net/npm/leaflet@1.9.3/dist/leaflet.js&quot;&gt;&lt;/script&gt;\n    &lt;script src=&quot;https://code.jquery.com/jquery-3.7.1.min.js&quot;&gt;&lt;/script&gt;\n    &lt;script src=&quot;https://cdn.jsdelivr.net/npm/bootstrap@5.2.2/dist/js/bootstrap.bundle.min.js&quot;&gt;&lt;/script&gt;\n    &lt;script src=&quot;https://cdnjs.cloudflare.com/ajax/libs/Leaflet.awesome-markers/2.0.2/leaflet.awesome-markers.js&quot;&gt;&lt;/script&gt;\n    &lt;link rel=&quot;stylesheet&quot; href=&quot;https://cdn.jsdelivr.net/npm/leaflet@1.9.3/dist/leaflet.css&quot;/&gt;\n    &lt;link rel=&quot;stylesheet&quot; href=&quot;https://cdn.jsdelivr.net/npm/bootstrap@5.2.2/dist/css/bootstrap.min.css&quot;/&gt;\n    &lt;link rel=&quot;stylesheet&quot; href=&quot;https://netdna.bootstrapcdn.com/bootstrap/3.0.0/css/bootstrap-glyphicons.css&quot;/&gt;\n    &lt;link rel=&quot;stylesheet&quot; href=&quot;https://cdn.jsdelivr.net/npm/@fortawesome/fontawesome-free@6.2.0/css/all.min.css&quot;/&gt;\n    &lt;link rel=&quot;stylesheet&quot; href=&quot;https://cdnjs.cloudflare.com/ajax/libs/Leaflet.awesome-markers/2.0.2/leaflet.awesome-markers.css&quot;/&gt;\n    &lt;link rel=&quot;stylesheet&quot; href=&quot;https://cdn.jsdelivr.net/gh/python-visualization/folium/folium/templates/leaflet.awesome.rotate.min.css&quot;/&gt;\n    \n            &lt;meta name=&quot;viewport&quot; content=&quot;width=device-width,\n                initial-scale=1.0, maximum-scale=1.0, user-scalable=no&quot; /&gt;\n            &lt;style&gt;\n                #map_0df3c4736f6ed03899ad217cb6f500cc {\n                    position: relative;\n                    width: 100.0%;\n                    height: 100.0%;\n                    left: 0.0%;\n                    top: 0.0%;\n                }\n                .leaflet-container { font-size: 1rem; }\n            &lt;/style&gt;\n        \n&lt;/head&gt;\n&lt;body&gt;\n    \n    \n            &lt;div class=&quot;folium-map&quot; id=&quot;map_0df3c4736f6ed03899ad217cb6f500cc&quot; &gt;&lt;/div&gt;\n        \n&lt;/body&gt;\n&lt;script&gt;\n    \n    \n            var map_0df3c4736f6ed03899ad217cb6f500cc = L.map(\n                &quot;map_0df3c4736f6ed03899ad217cb6f500cc&quot;,\n                {\n                    center: [30.082897, -90.602954],\n                    crs: L.CRS.EPSG3857,\n                    zoom: 5,\n                    zoomControl: true,\n                    preferCanvas: false,\n                }\n            );\n\n            \n\n        \n    \n            var tile_layer_3a807a77a54d19ef727f53de7458d41d = L.tileLayer(\n                &quot;https://tile.openstreetmap.org/{z}/{x}/{y}.png&quot;,\n                {&quot;attribution&quot;: &quot;\\u0026copy; \\u003ca href=\\&quot;https://www.openstreetmap.org/copyright\\&quot;\\u003eOpenStreetMap\\u003c/a\\u003e contributors&quot;, &quot;detectRetina&quot;: false, &quot;maxNativeZoom&quot;: 19, &quot;maxZoom&quot;: 19, &quot;minZoom&quot;: 0, &quot;noWrap&quot;: false, &quot;opacity&quot;: 1, &quot;subdomains&quot;: &quot;abc&quot;, &quot;tms&quot;: false}\n            );\n        \n    \n            tile_layer_3a807a77a54d19ef727f53de7458d41d.addTo(map_0df3c4736f6ed03899ad217cb6f500cc);\n        \n    \n            var marker_bb413af68f70a3acf4b76705145126f2 = L.marker(\n                [28.562302, -80.577356],\n                {}\n            ).addTo(map_0df3c4736f6ed03899ad217cb6f500cc);\n        \n    \n        var popup_ecdb3a0ce38f14f3520e47304167dbea = L.popup({&quot;maxWidth&quot;: &quot;100%&quot;});\n\n        \n            \n                var html_497fcdfa26c470ef75fdd5178b7d4a3b = $(`&lt;div id=&quot;html_497fcdfa26c470ef75fdd5178b7d4a3b&quot; style=&quot;width: 100.0%; height: 100.0%;&quot;&gt;CCAFS LC-40&lt;/div&gt;`)[0];\n                popup_ecdb3a0ce38f14f3520e47304167dbea.setContent(html_497fcdfa26c470ef75fdd5178b7d4a3b);\n            \n        \n\n        marker_bb413af68f70a3acf4b76705145126f2.bindPopup(popup_ecdb3a0ce38f14f3520e47304167dbea)\n        ;\n\n        \n    \n    \n            var circle_581ab704c497d7994b3a61e1fe165b1d = L.circle(\n                [28.562302, -80.577356],\n                {&quot;bubblingMouseEvents&quot;: true, &quot;color&quot;: &quot;blue&quot;, &quot;dashArray&quot;: null, &quot;dashOffset&quot;: null, &quot;fill&quot;: true, &quot;fillColor&quot;: &quot;blue&quot;, &quot;fillOpacity&quot;: 0.3, &quot;fillRule&quot;: &quot;evenodd&quot;, &quot;lineCap&quot;: &quot;round&quot;, &quot;lineJoin&quot;: &quot;round&quot;, &quot;opacity&quot;: 1.0, &quot;radius&quot;: 500, &quot;stroke&quot;: true, &quot;weight&quot;: 3}\n            ).addTo(map_0df3c4736f6ed03899ad217cb6f500cc);\n        \n    \n            var marker_5da59d4a3eef954cf97673c73443a6dd = L.marker(\n                [28.563197, -80.57682],\n                {}\n            ).addTo(map_0df3c4736f6ed03899ad217cb6f500cc);\n        \n    \n        var popup_c32e000f0d9de8f12507d1fdd426c432 = L.popup({&quot;maxWidth&quot;: &quot;100%&quot;});\n\n        \n            \n                var html_e05d48bd842adcf53eb9552159cc6bbf = $(`&lt;div id=&quot;html_e05d48bd842adcf53eb9552159cc6bbf&quot; style=&quot;width: 100.0%; height: 100.0%;&quot;&gt;CCAFS SLC-40&lt;/div&gt;`)[0];\n                popup_c32e000f0d9de8f12507d1fdd426c432.setContent(html_e05d48bd842adcf53eb9552159cc6bbf);\n            \n        \n\n        marker_5da59d4a3eef954cf97673c73443a6dd.bindPopup(popup_c32e000f0d9de8f12507d1fdd426c432)\n        ;\n\n        \n    \n    \n            var circle_2388214413200a0c1e5e54c19af6c86e = L.circle(\n                [28.563197, -80.57682],\n                {&quot;bubblingMouseEvents&quot;: true, &quot;color&quot;: &quot;blue&quot;, &quot;dashArray&quot;: null, &quot;dashOffset&quot;: null, &quot;fill&quot;: true, &quot;fillColor&quot;: &quot;blue&quot;, &quot;fillOpacity&quot;: 0.3, &quot;fillRule&quot;: &quot;evenodd&quot;, &quot;lineCap&quot;: &quot;round&quot;, &quot;lineJoin&quot;: &quot;round&quot;, &quot;opacity&quot;: 1.0, &quot;radius&quot;: 500, &quot;stroke&quot;: true, &quot;weight&quot;: 3}\n            ).addTo(map_0df3c4736f6ed03899ad217cb6f500cc);\n        \n    \n            var marker_bc23b1225d79fc9effae1ee31908fe4b = L.marker(\n                [28.573255, -80.646895],\n                {}\n            ).addTo(map_0df3c4736f6ed03899ad217cb6f500cc);\n        \n    \n        var popup_96f238212ecb1f9aebda9f6a90a038c2 = L.popup({&quot;maxWidth&quot;: &quot;100%&quot;});\n\n        \n            \n                var html_3ead32bd278f18a9f7e2b764995dc1b0 = $(`&lt;div id=&quot;html_3ead32bd278f18a9f7e2b764995dc1b0&quot; style=&quot;width: 100.0%; height: 100.0%;&quot;&gt;KSC LC-39A&lt;/div&gt;`)[0];\n                popup_96f238212ecb1f9aebda9f6a90a038c2.setContent(html_3ead32bd278f18a9f7e2b764995dc1b0);\n            \n        \n\n        marker_bc23b1225d79fc9effae1ee31908fe4b.bindPopup(popup_96f238212ecb1f9aebda9f6a90a038c2)\n        ;\n\n        \n    \n    \n            var circle_77b1d8f1d5a45b765e308687c021bba2 = L.circle(\n                [28.573255, -80.646895],\n                {&quot;bubblingMouseEvents&quot;: true, &quot;color&quot;: &quot;blue&quot;, &quot;dashArray&quot;: null, &quot;dashOffset&quot;: null, &quot;fill&quot;: true, &quot;fillColor&quot;: &quot;blue&quot;, &quot;fillOpacity&quot;: 0.3, &quot;fillRule&quot;: &quot;evenodd&quot;, &quot;lineCap&quot;: &quot;round&quot;, &quot;lineJoin&quot;: &quot;round&quot;, &quot;opacity&quot;: 1.0, &quot;radius&quot;: 500, &quot;stroke&quot;: true, &quot;weight&quot;: 3}\n            ).addTo(map_0df3c4736f6ed03899ad217cb6f500cc);\n        \n    \n            var marker_76f2868a04e70c2aabadc3750ab87834 = L.marker(\n                [34.632834, -120.610745],\n                {}\n            ).addTo(map_0df3c4736f6ed03899ad217cb6f500cc);\n        \n    \n        var popup_1cba762d88b4398ff694169c51e2d6b5 = L.popup({&quot;maxWidth&quot;: &quot;100%&quot;});\n\n        \n            \n                var html_821af9082c694a3b8cb99024eef79544 = $(`&lt;div id=&quot;html_821af9082c694a3b8cb99024eef79544&quot; style=&quot;width: 100.0%; height: 100.0%;&quot;&gt;VAFB SLC-4E&lt;/div&gt;`)[0];\n                popup_1cba762d88b4398ff694169c51e2d6b5.setContent(html_821af9082c694a3b8cb99024eef79544);\n            \n        \n\n        marker_76f2868a04e70c2aabadc3750ab87834.bindPopup(popup_1cba762d88b4398ff694169c51e2d6b5)\n        ;\n\n        \n    \n    \n            var circle_9d17aa92fae886c2e1eae34ced6f19ff = L.circle(\n                [34.632834, -120.610745],\n                {&quot;bubblingMouseEvents&quot;: true, &quot;color&quot;: &quot;blue&quot;, &quot;dashArray&quot;: null, &quot;dashOffset&quot;: null, &quot;fill&quot;: true, &quot;fillColor&quot;: &quot;blue&quot;, &quot;fillOpacity&quot;: 0.3, &quot;fillRule&quot;: &quot;evenodd&quot;, &quot;lineCap&quot;: &quot;round&quot;, &quot;lineJoin&quot;: &quot;round&quot;, &quot;opacity&quot;: 1.0, &quot;radius&quot;: 500, &quot;stroke&quot;: true, &quot;weight&quot;: 3}\n            ).addTo(map_0df3c4736f6ed03899ad217cb6f500cc);\n        \n&lt;/script&gt;\n&lt;/html&gt;\" style=\"position:absolute;width:100%;height:100%;left:0;top:0;border:none !important;\" allowfullscreen webkitallowfullscreen mozallowfullscreen></iframe></div></div>"
          },
          "metadata": {}
        }
      ],
      "execution_count": 13
    },
    {
      "cell_type": "markdown",
      "source": "The generated map with marked launch sites should look similar to the following:\n",
      "metadata": {}
    },
    {
      "cell_type": "markdown",
      "source": "<center>\n    <img src=\"https://cf-courses-data.s3.us.cloud-object-storage.appdomain.cloud/IBM-DS0321EN-SkillsNetwork/labs/module_3/images/launch_site_markers.png\">\n</center>\n",
      "metadata": {}
    },
    {
      "cell_type": "markdown",
      "source": "Now, you can explore the map by zoom-in/out the marked areas\n, and try to answer the following questions:\n\n*   Are all launch sites in proximity to the Equator line?\n*   Are all launch sites in very close proximity to the coast?\n\nAlso please try to explain your findings.\n",
      "metadata": {}
    },
    {
      "cell_type": "markdown",
      "source": "#My input\n# To answer your questions, let's analyze the data regarding the launch sites based on their coordinates:\n\nProximity to the Equator:\n\nThe Equator is located at 0° latitude, and launch sites closer to the Equator generally have latitudes near 0°.\nThe latitudes of the launch sites in the dataframe are:\nCCAFS LC-40: 28.56° N\nCCAFS SLC-40: 28.56° N\nKSC LC-39A: 28.57° N\nVAFB SLC-4E: 34.63° N\nThe launch sites in Florida (CCAFS LC-40, CCAFS SLC-40, and KSC LC-39A) are around 28° N, and the VAFB site in California is at 34° N. These latitudes are quite far from the Equator, which is located at 0°. Therefore, none of these launch sites are in close proximity to the Equator.\n\nProximity to the Coast:\n\nBased on their locations, all of these sites are very close to the coast:\nCCAFS LC-40 and CCAFS SLC-40 are part of the Cape Canaveral Air Force Station, which is directly adjacent to the Atlantic Ocean.\nKSC LC-39A (Kennedy Space Center) is also located on the coast, very near the Atlantic Ocean.\nVAFB SLC-4E (Vandenberg Space Launch Complex) is located in California near the Pacific Ocean.\nLaunch sites are generally placed near coastlines to allow for safer launches, as rockets tend to launch over oceans to minimize risks to populated areas. Therefore, all the launch sites are indeed in very close proximity to the coast.\n\nIn summary:\n\nNone of the launch sites are close to the Equator.\nAll of the launch sites are in close proximity to the coast.",
      "metadata": {}
    },
    {
      "cell_type": "code",
      "source": "# Task 2: Mark the success/failed launches for each site on the map\n",
      "metadata": {},
      "outputs": [],
      "execution_count": null
    },
    {
      "cell_type": "markdown",
      "source": "Next, let's try to enhance the map by adding the launch outcomes for each site, and see which sites have high success rates.\nRecall that data frame spacex_df has detailed launch records, and the `class` column indicates if this launch was successful or not\n",
      "metadata": {}
    },
    {
      "cell_type": "code",
      "source": "spacex_df.tail(10)",
      "metadata": {
        "trusted": true
      },
      "outputs": [
        {
          "execution_count": 14,
          "output_type": "execute_result",
          "data": {
            "text/plain": "     Launch Site        Lat       Long  class\n46    KSC LC-39A  28.573255 -80.646895      1\n47    KSC LC-39A  28.573255 -80.646895      1\n48    KSC LC-39A  28.573255 -80.646895      1\n49  CCAFS SLC-40  28.563197 -80.576820      1\n50  CCAFS SLC-40  28.563197 -80.576820      1\n51  CCAFS SLC-40  28.563197 -80.576820      0\n52  CCAFS SLC-40  28.563197 -80.576820      0\n53  CCAFS SLC-40  28.563197 -80.576820      0\n54  CCAFS SLC-40  28.563197 -80.576820      1\n55  CCAFS SLC-40  28.563197 -80.576820      0",
            "text/html": "<div>\n<style scoped>\n    .dataframe tbody tr th:only-of-type {\n        vertical-align: middle;\n    }\n\n    .dataframe tbody tr th {\n        vertical-align: top;\n    }\n\n    .dataframe thead th {\n        text-align: right;\n    }\n</style>\n<table border=\"1\" class=\"dataframe\">\n  <thead>\n    <tr style=\"text-align: right;\">\n      <th></th>\n      <th>Launch Site</th>\n      <th>Lat</th>\n      <th>Long</th>\n      <th>class</th>\n    </tr>\n  </thead>\n  <tbody>\n    <tr>\n      <th>46</th>\n      <td>KSC LC-39A</td>\n      <td>28.573255</td>\n      <td>-80.646895</td>\n      <td>1</td>\n    </tr>\n    <tr>\n      <th>47</th>\n      <td>KSC LC-39A</td>\n      <td>28.573255</td>\n      <td>-80.646895</td>\n      <td>1</td>\n    </tr>\n    <tr>\n      <th>48</th>\n      <td>KSC LC-39A</td>\n      <td>28.573255</td>\n      <td>-80.646895</td>\n      <td>1</td>\n    </tr>\n    <tr>\n      <th>49</th>\n      <td>CCAFS SLC-40</td>\n      <td>28.563197</td>\n      <td>-80.576820</td>\n      <td>1</td>\n    </tr>\n    <tr>\n      <th>50</th>\n      <td>CCAFS SLC-40</td>\n      <td>28.563197</td>\n      <td>-80.576820</td>\n      <td>1</td>\n    </tr>\n    <tr>\n      <th>51</th>\n      <td>CCAFS SLC-40</td>\n      <td>28.563197</td>\n      <td>-80.576820</td>\n      <td>0</td>\n    </tr>\n    <tr>\n      <th>52</th>\n      <td>CCAFS SLC-40</td>\n      <td>28.563197</td>\n      <td>-80.576820</td>\n      <td>0</td>\n    </tr>\n    <tr>\n      <th>53</th>\n      <td>CCAFS SLC-40</td>\n      <td>28.563197</td>\n      <td>-80.576820</td>\n      <td>0</td>\n    </tr>\n    <tr>\n      <th>54</th>\n      <td>CCAFS SLC-40</td>\n      <td>28.563197</td>\n      <td>-80.576820</td>\n      <td>1</td>\n    </tr>\n    <tr>\n      <th>55</th>\n      <td>CCAFS SLC-40</td>\n      <td>28.563197</td>\n      <td>-80.576820</td>\n      <td>0</td>\n    </tr>\n  </tbody>\n</table>\n</div>"
          },
          "metadata": {}
        }
      ],
      "execution_count": 14
    },
    {
      "cell_type": "markdown",
      "source": "Next, let's create markers for all launch records.\nIf a launch was successful `(class=1)`, then we use a green marker and if a launch was failed, we use a red marker `(class=0)`\n",
      "metadata": {}
    },
    {
      "cell_type": "markdown",
      "source": "Note that a launch only happens in one of the four launch sites, which means many launch records will have the exact same coordinate. Marker clusters can be a good way to simplify a map containing many markers having the same coordinate.\n",
      "metadata": {}
    },
    {
      "cell_type": "markdown",
      "source": "Let's first create a `MarkerCluster` object\n",
      "metadata": {}
    },
    {
      "cell_type": "code",
      "source": "marker_cluster = MarkerCluster()\n",
      "metadata": {
        "trusted": true
      },
      "outputs": [],
      "execution_count": 15
    },
    {
      "cell_type": "markdown",
      "source": "*TODO:* Create a new column in `spacex_df` dataframe called `marker_color` to store the marker colors based on the `class` value\n",
      "metadata": {}
    },
    {
      "cell_type": "code",
      "source": "\n# Apply a function to check the value of `class` column\n# If class=1, marker_color value will be green\n# If class=0, marker_color value will be red",
      "metadata": {},
      "outputs": [],
      "execution_count": null
    },
    {
      "cell_type": "code",
      "source": "# Example DataFrame for SpaceX launch data with 'class' representing success or failure\nspacex_data = {\n    'Launch Site': ['CCAFS LC-40', 'CCAFS SLC-40', 'KSC LC-39A', 'VAFB SLC-4E'],\n    'Lat': [28.562302, 28.563197, 28.573255, 34.632834],\n    'Long': [-80.577356, -80.576820, -80.646895, -120.610745],\n    'class': [1, 0, 1, 0]  # 1 represents success, 0 represents failure\n}\nspacex_df = pd.DataFrame(spacex_data)\n\n# Create a new column 'marker_color' based on the 'class' value\nspacex_df['marker_color'] = spacex_df['class'].apply(lambda x: 'green' if x == 1 else 'red')\n\n# Create a base map centered around the launch sites\nlaunch_map = folium.Map(location=[spacex_df['Lat'].mean(), spacex_df['Long'].mean()], zoom_start=5)\n\n# Create a MarkerCluster object\nmarker_cluster = MarkerCluster().add_to(launch_map)\n\n# Add markers to the map with the appropriate color\nfor _, row in spacex_df.iterrows():\n    folium.Marker(\n        location=[row['Lat'], row['Long']],\n        popup=f\"Launch Site: {row['Launch Site']}, Class: {row['class']}\",\n        icon=folium.Icon(color=row['marker_color'])\n    ).add_to(marker_cluster)\n\n# Display the map\nlaunch_map\n",
      "metadata": {
        "trusted": true
      },
      "outputs": [
        {
          "execution_count": 16,
          "output_type": "execute_result",
          "data": {
            "text/plain": "<folium.folium.Map at 0x5abea48>",
            "text/html": "<div style=\"width:100%;\"><div style=\"position:relative;width:100%;height:0;padding-bottom:60%;\"><span style=\"color:#565656\">Make this Notebook Trusted to load map: File -> Trust Notebook</span><iframe srcdoc=\"&lt;!DOCTYPE html&gt;\n&lt;html&gt;\n&lt;head&gt;\n    \n    &lt;meta http-equiv=&quot;content-type&quot; content=&quot;text/html; charset=UTF-8&quot; /&gt;\n    \n        &lt;script&gt;\n            L_NO_TOUCH = false;\n            L_DISABLE_3D = false;\n        &lt;/script&gt;\n    \n    &lt;style&gt;html, body {width: 100%;height: 100%;margin: 0;padding: 0;}&lt;/style&gt;\n    &lt;style&gt;#map {position:absolute;top:0;bottom:0;right:0;left:0;}&lt;/style&gt;\n    &lt;script src=&quot;https://cdn.jsdelivr.net/npm/leaflet@1.9.3/dist/leaflet.js&quot;&gt;&lt;/script&gt;\n    &lt;script src=&quot;https://code.jquery.com/jquery-3.7.1.min.js&quot;&gt;&lt;/script&gt;\n    &lt;script src=&quot;https://cdn.jsdelivr.net/npm/bootstrap@5.2.2/dist/js/bootstrap.bundle.min.js&quot;&gt;&lt;/script&gt;\n    &lt;script src=&quot;https://cdnjs.cloudflare.com/ajax/libs/Leaflet.awesome-markers/2.0.2/leaflet.awesome-markers.js&quot;&gt;&lt;/script&gt;\n    &lt;link rel=&quot;stylesheet&quot; href=&quot;https://cdn.jsdelivr.net/npm/leaflet@1.9.3/dist/leaflet.css&quot;/&gt;\n    &lt;link rel=&quot;stylesheet&quot; href=&quot;https://cdn.jsdelivr.net/npm/bootstrap@5.2.2/dist/css/bootstrap.min.css&quot;/&gt;\n    &lt;link rel=&quot;stylesheet&quot; href=&quot;https://netdna.bootstrapcdn.com/bootstrap/3.0.0/css/bootstrap-glyphicons.css&quot;/&gt;\n    &lt;link rel=&quot;stylesheet&quot; href=&quot;https://cdn.jsdelivr.net/npm/@fortawesome/fontawesome-free@6.2.0/css/all.min.css&quot;/&gt;\n    &lt;link rel=&quot;stylesheet&quot; href=&quot;https://cdnjs.cloudflare.com/ajax/libs/Leaflet.awesome-markers/2.0.2/leaflet.awesome-markers.css&quot;/&gt;\n    &lt;link rel=&quot;stylesheet&quot; href=&quot;https://cdn.jsdelivr.net/gh/python-visualization/folium/folium/templates/leaflet.awesome.rotate.min.css&quot;/&gt;\n    \n            &lt;meta name=&quot;viewport&quot; content=&quot;width=device-width,\n                initial-scale=1.0, maximum-scale=1.0, user-scalable=no&quot; /&gt;\n            &lt;style&gt;\n                #map_8f795673934b44108b338e72ba4a73e2 {\n                    position: relative;\n                    width: 100.0%;\n                    height: 100.0%;\n                    left: 0.0%;\n                    top: 0.0%;\n                }\n                .leaflet-container { font-size: 1rem; }\n            &lt;/style&gt;\n        \n    &lt;script src=&quot;https://cdnjs.cloudflare.com/ajax/libs/leaflet.markercluster/1.1.0/leaflet.markercluster.js&quot;&gt;&lt;/script&gt;\n    &lt;link rel=&quot;stylesheet&quot; href=&quot;https://cdnjs.cloudflare.com/ajax/libs/leaflet.markercluster/1.1.0/MarkerCluster.css&quot;/&gt;\n    &lt;link rel=&quot;stylesheet&quot; href=&quot;https://cdnjs.cloudflare.com/ajax/libs/leaflet.markercluster/1.1.0/MarkerCluster.Default.css&quot;/&gt;\n&lt;/head&gt;\n&lt;body&gt;\n    \n    \n            &lt;div class=&quot;folium-map&quot; id=&quot;map_8f795673934b44108b338e72ba4a73e2&quot; &gt;&lt;/div&gt;\n        \n&lt;/body&gt;\n&lt;script&gt;\n    \n    \n            var map_8f795673934b44108b338e72ba4a73e2 = L.map(\n                &quot;map_8f795673934b44108b338e72ba4a73e2&quot;,\n                {\n                    center: [30.082897, -90.602954],\n                    crs: L.CRS.EPSG3857,\n                    zoom: 5,\n                    zoomControl: true,\n                    preferCanvas: false,\n                }\n            );\n\n            \n\n        \n    \n            var tile_layer_473aea7a751c8a401e7024a4c822003c = L.tileLayer(\n                &quot;https://tile.openstreetmap.org/{z}/{x}/{y}.png&quot;,\n                {&quot;attribution&quot;: &quot;\\u0026copy; \\u003ca href=\\&quot;https://www.openstreetmap.org/copyright\\&quot;\\u003eOpenStreetMap\\u003c/a\\u003e contributors&quot;, &quot;detectRetina&quot;: false, &quot;maxNativeZoom&quot;: 19, &quot;maxZoom&quot;: 19, &quot;minZoom&quot;: 0, &quot;noWrap&quot;: false, &quot;opacity&quot;: 1, &quot;subdomains&quot;: &quot;abc&quot;, &quot;tms&quot;: false}\n            );\n        \n    \n            tile_layer_473aea7a751c8a401e7024a4c822003c.addTo(map_8f795673934b44108b338e72ba4a73e2);\n        \n    \n            var marker_cluster_f89fa5ab9006d48a0559d3bd3ddcf94c = L.markerClusterGroup(\n                {}\n            );\n        \n    \n            var marker_1dce4af647507dc8830f61d52c44f508 = L.marker(\n                [28.562302, -80.577356],\n                {}\n            ).addTo(marker_cluster_f89fa5ab9006d48a0559d3bd3ddcf94c);\n        \n    \n            var icon_0348dd0dbb16309b667d882fb3645f81 = L.AwesomeMarkers.icon(\n                {&quot;extraClasses&quot;: &quot;fa-rotate-0&quot;, &quot;icon&quot;: &quot;info-sign&quot;, &quot;iconColor&quot;: &quot;white&quot;, &quot;markerColor&quot;: &quot;green&quot;, &quot;prefix&quot;: &quot;glyphicon&quot;}\n            );\n            marker_1dce4af647507dc8830f61d52c44f508.setIcon(icon_0348dd0dbb16309b667d882fb3645f81);\n        \n    \n        var popup_31136b351236eec0b3a7ce6a82d888c1 = L.popup({&quot;maxWidth&quot;: &quot;100%&quot;});\n\n        \n            \n                var html_5dc8f438d876fb4b1ee83b7b013c61f3 = $(`&lt;div id=&quot;html_5dc8f438d876fb4b1ee83b7b013c61f3&quot; style=&quot;width: 100.0%; height: 100.0%;&quot;&gt;Launch Site: CCAFS LC-40, Class: 1&lt;/div&gt;`)[0];\n                popup_31136b351236eec0b3a7ce6a82d888c1.setContent(html_5dc8f438d876fb4b1ee83b7b013c61f3);\n            \n        \n\n        marker_1dce4af647507dc8830f61d52c44f508.bindPopup(popup_31136b351236eec0b3a7ce6a82d888c1)\n        ;\n\n        \n    \n    \n            var marker_6d30614c3f004f56a0c705a89c1beefe = L.marker(\n                [28.563197, -80.57682],\n                {}\n            ).addTo(marker_cluster_f89fa5ab9006d48a0559d3bd3ddcf94c);\n        \n    \n            var icon_19dc8c41f058c9999386a53f9086b6bd = L.AwesomeMarkers.icon(\n                {&quot;extraClasses&quot;: &quot;fa-rotate-0&quot;, &quot;icon&quot;: &quot;info-sign&quot;, &quot;iconColor&quot;: &quot;white&quot;, &quot;markerColor&quot;: &quot;red&quot;, &quot;prefix&quot;: &quot;glyphicon&quot;}\n            );\n            marker_6d30614c3f004f56a0c705a89c1beefe.setIcon(icon_19dc8c41f058c9999386a53f9086b6bd);\n        \n    \n        var popup_6c3b30130137784a436c19b97e6cb1fe = L.popup({&quot;maxWidth&quot;: &quot;100%&quot;});\n\n        \n            \n                var html_c13663093eef723f86f5813f39d8fbf4 = $(`&lt;div id=&quot;html_c13663093eef723f86f5813f39d8fbf4&quot; style=&quot;width: 100.0%; height: 100.0%;&quot;&gt;Launch Site: CCAFS SLC-40, Class: 0&lt;/div&gt;`)[0];\n                popup_6c3b30130137784a436c19b97e6cb1fe.setContent(html_c13663093eef723f86f5813f39d8fbf4);\n            \n        \n\n        marker_6d30614c3f004f56a0c705a89c1beefe.bindPopup(popup_6c3b30130137784a436c19b97e6cb1fe)\n        ;\n\n        \n    \n    \n            var marker_3089912215ac1f63559aa4ff67ac1462 = L.marker(\n                [28.573255, -80.646895],\n                {}\n            ).addTo(marker_cluster_f89fa5ab9006d48a0559d3bd3ddcf94c);\n        \n    \n            var icon_e6cb3ab418184701f8cf8b95b1d28e68 = L.AwesomeMarkers.icon(\n                {&quot;extraClasses&quot;: &quot;fa-rotate-0&quot;, &quot;icon&quot;: &quot;info-sign&quot;, &quot;iconColor&quot;: &quot;white&quot;, &quot;markerColor&quot;: &quot;green&quot;, &quot;prefix&quot;: &quot;glyphicon&quot;}\n            );\n            marker_3089912215ac1f63559aa4ff67ac1462.setIcon(icon_e6cb3ab418184701f8cf8b95b1d28e68);\n        \n    \n        var popup_18b84c23f80c70e0e1a908d85f6c958b = L.popup({&quot;maxWidth&quot;: &quot;100%&quot;});\n\n        \n            \n                var html_569990d7a77a9456ac97547e03c15470 = $(`&lt;div id=&quot;html_569990d7a77a9456ac97547e03c15470&quot; style=&quot;width: 100.0%; height: 100.0%;&quot;&gt;Launch Site: KSC LC-39A, Class: 1&lt;/div&gt;`)[0];\n                popup_18b84c23f80c70e0e1a908d85f6c958b.setContent(html_569990d7a77a9456ac97547e03c15470);\n            \n        \n\n        marker_3089912215ac1f63559aa4ff67ac1462.bindPopup(popup_18b84c23f80c70e0e1a908d85f6c958b)\n        ;\n\n        \n    \n    \n            var marker_f778590594a034df9d71d53857562939 = L.marker(\n                [34.632834, -120.610745],\n                {}\n            ).addTo(marker_cluster_f89fa5ab9006d48a0559d3bd3ddcf94c);\n        \n    \n            var icon_e7fd59de1fdd842747b85141f5c18fd0 = L.AwesomeMarkers.icon(\n                {&quot;extraClasses&quot;: &quot;fa-rotate-0&quot;, &quot;icon&quot;: &quot;info-sign&quot;, &quot;iconColor&quot;: &quot;white&quot;, &quot;markerColor&quot;: &quot;red&quot;, &quot;prefix&quot;: &quot;glyphicon&quot;}\n            );\n            marker_f778590594a034df9d71d53857562939.setIcon(icon_e7fd59de1fdd842747b85141f5c18fd0);\n        \n    \n        var popup_be06b94bb34bc51ccaed9d0d999d2a41 = L.popup({&quot;maxWidth&quot;: &quot;100%&quot;});\n\n        \n            \n                var html_949eed64934c82a83516fa65bc65d23e = $(`&lt;div id=&quot;html_949eed64934c82a83516fa65bc65d23e&quot; style=&quot;width: 100.0%; height: 100.0%;&quot;&gt;Launch Site: VAFB SLC-4E, Class: 0&lt;/div&gt;`)[0];\n                popup_be06b94bb34bc51ccaed9d0d999d2a41.setContent(html_949eed64934c82a83516fa65bc65d23e);\n            \n        \n\n        marker_f778590594a034df9d71d53857562939.bindPopup(popup_be06b94bb34bc51ccaed9d0d999d2a41)\n        ;\n\n        \n    \n    \n            marker_cluster_f89fa5ab9006d48a0559d3bd3ddcf94c.addTo(map_8f795673934b44108b338e72ba4a73e2);\n        \n&lt;/script&gt;\n&lt;/html&gt;\" style=\"position:absolute;width:100%;height:100%;left:0;top:0;border:none !important;\" allowfullscreen webkitallowfullscreen mozallowfullscreen></iframe></div></div>"
          },
          "metadata": {}
        }
      ],
      "execution_count": 16
    },
    {
      "cell_type": "markdown",
      "source": "*TODO:* For each launch result in `spacex_df` data frame, add a `folium.Marker` to `marker_cluster`\n",
      "metadata": {}
    },
    {
      "cell_type": "code",
      "source": "# Add marker_cluster to current site_map\nsite_map.add_child(marker_cluster)\n\n# for each row in spacex_df data frame\n# create a Marker object with its coordinate\n# and customize the Marker's icon property to indicate if this launch was successed or failed, \n# e.g., icon=folium.Icon(color='white', icon_color=row['marker_color']\nfor index, record in spacex_df.iterrows():\n    # TODO: Create and add a Marker cluster to the site map\n    # marker = folium.Marker(...)\n    marker_cluster.add_child(marker)\n\nsite_map",
      "metadata": {},
      "outputs": [],
      "execution_count": null
    },
    {
      "cell_type": "markdown",
      "source": "Your updated map may look like the following screenshots:\n",
      "metadata": {}
    },
    {
      "cell_type": "markdown",
      "source": "<center>\n    <img src=\"https://cf-courses-data.s3.us.cloud-object-storage.appdomain.cloud/IBM-DS0321EN-SkillsNetwork/labs/module_3/images/launch_site_marker_cluster.png\">\n</center>\n",
      "metadata": {}
    },
    {
      "cell_type": "markdown",
      "source": "<center>\n    <img src=\"https://cf-courses-data.s3.us.cloud-object-storage.appdomain.cloud/IBM-DS0321EN-SkillsNetwork/labs/module_3/images/launch_site_marker_cluster_zoomed.png\">\n</center>\n",
      "metadata": {}
    },
    {
      "cell_type": "markdown",
      "source": "From the color-labeled markers in marker clusters, you should be able to easily identify which launch sites have relatively high success rates.\n",
      "metadata": {}
    },
    {
      "cell_type": "code",
      "source": "# TASK 3: Calculate the distances between a launch site to its proximities\nimport folium\nfrom folium.plugins import MarkerCluster\nimport pandas as pd\n\n# Example DataFrame for SpaceX launch data with 'class' representing success or failure\nspacex_data = {\n    'Launch Site': ['CCAFS LC-40', 'CCAFS SLC-40', 'KSC LC-39A', 'VAFB SLC-4E'],\n    'Lat': [28.562302, 28.563197, 28.573255, 34.632834],\n    'Long': [-80.577356, -80.576820, -80.646895, -120.610745],\n    'class': [1, 0, 1, 0]  # 1 represents success, 0 represents failure\n}\nspacex_df = pd.DataFrame(spacex_data)\n\n# Create a new column 'marker_color' based on the 'class' value\nspacex_df['marker_color'] = spacex_df['class'].apply(lambda x: 'green' if x == 1 else 'red')\n\n# Create a base map centered around the launch sites\nlaunch_map = folium.Map(location=[spacex_df['Lat'].mean(), spacex_df['Long'].mean()], zoom_start=5)\n\n# Create a MarkerCluster object\nmarker_cluster = MarkerCluster().add_to(launch_map)\n\n# Add markers to the map with the appropriate color\nfor _, row in spacex_df.iterrows():\n    folium.Marker(\n        location=[row['Lat'], row['Long']],\n        popup=f\"Launch Site: {row['Launch Site']}, Class: {row['class']}\",\n        icon=folium.Icon(color=row['marker_color'])\n    ).add_to(marker_cluster)\n\n# Display the map\nlaunch_map\n",
      "metadata": {
        "trusted": true
      },
      "outputs": [
        {
          "execution_count": 24,
          "output_type": "execute_result",
          "data": {
            "text/plain": "<folium.folium.Map at 0x5de22d8>",
            "text/html": "<div style=\"width:100%;\"><div style=\"position:relative;width:100%;height:0;padding-bottom:60%;\"><span style=\"color:#565656\">Make this Notebook Trusted to load map: File -> Trust Notebook</span><iframe srcdoc=\"&lt;!DOCTYPE html&gt;\n&lt;html&gt;\n&lt;head&gt;\n    \n    &lt;meta http-equiv=&quot;content-type&quot; content=&quot;text/html; charset=UTF-8&quot; /&gt;\n    \n        &lt;script&gt;\n            L_NO_TOUCH = false;\n            L_DISABLE_3D = false;\n        &lt;/script&gt;\n    \n    &lt;style&gt;html, body {width: 100%;height: 100%;margin: 0;padding: 0;}&lt;/style&gt;\n    &lt;style&gt;#map {position:absolute;top:0;bottom:0;right:0;left:0;}&lt;/style&gt;\n    &lt;script src=&quot;https://cdn.jsdelivr.net/npm/leaflet@1.9.3/dist/leaflet.js&quot;&gt;&lt;/script&gt;\n    &lt;script src=&quot;https://code.jquery.com/jquery-3.7.1.min.js&quot;&gt;&lt;/script&gt;\n    &lt;script src=&quot;https://cdn.jsdelivr.net/npm/bootstrap@5.2.2/dist/js/bootstrap.bundle.min.js&quot;&gt;&lt;/script&gt;\n    &lt;script src=&quot;https://cdnjs.cloudflare.com/ajax/libs/Leaflet.awesome-markers/2.0.2/leaflet.awesome-markers.js&quot;&gt;&lt;/script&gt;\n    &lt;link rel=&quot;stylesheet&quot; href=&quot;https://cdn.jsdelivr.net/npm/leaflet@1.9.3/dist/leaflet.css&quot;/&gt;\n    &lt;link rel=&quot;stylesheet&quot; href=&quot;https://cdn.jsdelivr.net/npm/bootstrap@5.2.2/dist/css/bootstrap.min.css&quot;/&gt;\n    &lt;link rel=&quot;stylesheet&quot; href=&quot;https://netdna.bootstrapcdn.com/bootstrap/3.0.0/css/bootstrap-glyphicons.css&quot;/&gt;\n    &lt;link rel=&quot;stylesheet&quot; href=&quot;https://cdn.jsdelivr.net/npm/@fortawesome/fontawesome-free@6.2.0/css/all.min.css&quot;/&gt;\n    &lt;link rel=&quot;stylesheet&quot; href=&quot;https://cdnjs.cloudflare.com/ajax/libs/Leaflet.awesome-markers/2.0.2/leaflet.awesome-markers.css&quot;/&gt;\n    &lt;link rel=&quot;stylesheet&quot; href=&quot;https://cdn.jsdelivr.net/gh/python-visualization/folium/folium/templates/leaflet.awesome.rotate.min.css&quot;/&gt;\n    \n            &lt;meta name=&quot;viewport&quot; content=&quot;width=device-width,\n                initial-scale=1.0, maximum-scale=1.0, user-scalable=no&quot; /&gt;\n            &lt;style&gt;\n                #map_4b0f2ead2701a9d3b7bae21f4a824ca7 {\n                    position: relative;\n                    width: 100.0%;\n                    height: 100.0%;\n                    left: 0.0%;\n                    top: 0.0%;\n                }\n                .leaflet-container { font-size: 1rem; }\n            &lt;/style&gt;\n        \n    &lt;script src=&quot;https://cdnjs.cloudflare.com/ajax/libs/leaflet.markercluster/1.1.0/leaflet.markercluster.js&quot;&gt;&lt;/script&gt;\n    &lt;link rel=&quot;stylesheet&quot; href=&quot;https://cdnjs.cloudflare.com/ajax/libs/leaflet.markercluster/1.1.0/MarkerCluster.css&quot;/&gt;\n    &lt;link rel=&quot;stylesheet&quot; href=&quot;https://cdnjs.cloudflare.com/ajax/libs/leaflet.markercluster/1.1.0/MarkerCluster.Default.css&quot;/&gt;\n&lt;/head&gt;\n&lt;body&gt;\n    \n    \n            &lt;div class=&quot;folium-map&quot; id=&quot;map_4b0f2ead2701a9d3b7bae21f4a824ca7&quot; &gt;&lt;/div&gt;\n        \n&lt;/body&gt;\n&lt;script&gt;\n    \n    \n            var map_4b0f2ead2701a9d3b7bae21f4a824ca7 = L.map(\n                &quot;map_4b0f2ead2701a9d3b7bae21f4a824ca7&quot;,\n                {\n                    center: [30.082897, -90.602954],\n                    crs: L.CRS.EPSG3857,\n                    zoom: 5,\n                    zoomControl: true,\n                    preferCanvas: false,\n                }\n            );\n\n            \n\n        \n    \n            var tile_layer_7b79e82eba840d0e4fb36266619867d0 = L.tileLayer(\n                &quot;https://tile.openstreetmap.org/{z}/{x}/{y}.png&quot;,\n                {&quot;attribution&quot;: &quot;\\u0026copy; \\u003ca href=\\&quot;https://www.openstreetmap.org/copyright\\&quot;\\u003eOpenStreetMap\\u003c/a\\u003e contributors&quot;, &quot;detectRetina&quot;: false, &quot;maxNativeZoom&quot;: 19, &quot;maxZoom&quot;: 19, &quot;minZoom&quot;: 0, &quot;noWrap&quot;: false, &quot;opacity&quot;: 1, &quot;subdomains&quot;: &quot;abc&quot;, &quot;tms&quot;: false}\n            );\n        \n    \n            tile_layer_7b79e82eba840d0e4fb36266619867d0.addTo(map_4b0f2ead2701a9d3b7bae21f4a824ca7);\n        \n    \n            var marker_cluster_fe9a74020a91712de3144b0536d85632 = L.markerClusterGroup(\n                {}\n            );\n        \n    \n            var marker_bb29bb766df6a52564b1f0d52b7424bb = L.marker(\n                [28.562302, -80.577356],\n                {}\n            ).addTo(marker_cluster_fe9a74020a91712de3144b0536d85632);\n        \n    \n            var icon_0998a4bcef6e9da8183bbe57d8dd8a34 = L.AwesomeMarkers.icon(\n                {&quot;extraClasses&quot;: &quot;fa-rotate-0&quot;, &quot;icon&quot;: &quot;info-sign&quot;, &quot;iconColor&quot;: &quot;white&quot;, &quot;markerColor&quot;: &quot;green&quot;, &quot;prefix&quot;: &quot;glyphicon&quot;}\n            );\n            marker_bb29bb766df6a52564b1f0d52b7424bb.setIcon(icon_0998a4bcef6e9da8183bbe57d8dd8a34);\n        \n    \n        var popup_23d012a298962802d902d2e5c34633f2 = L.popup({&quot;maxWidth&quot;: &quot;100%&quot;});\n\n        \n            \n                var html_4e762ffbd1bf99a850e863271cf6cf6e = $(`&lt;div id=&quot;html_4e762ffbd1bf99a850e863271cf6cf6e&quot; style=&quot;width: 100.0%; height: 100.0%;&quot;&gt;Launch Site: CCAFS LC-40, Class: 1&lt;/div&gt;`)[0];\n                popup_23d012a298962802d902d2e5c34633f2.setContent(html_4e762ffbd1bf99a850e863271cf6cf6e);\n            \n        \n\n        marker_bb29bb766df6a52564b1f0d52b7424bb.bindPopup(popup_23d012a298962802d902d2e5c34633f2)\n        ;\n\n        \n    \n    \n            var marker_bd81c12d23a7163f81f11407d11c4a30 = L.marker(\n                [28.563197, -80.57682],\n                {}\n            ).addTo(marker_cluster_fe9a74020a91712de3144b0536d85632);\n        \n    \n            var icon_045967fe96c9fd569f917c8ab66bd4d0 = L.AwesomeMarkers.icon(\n                {&quot;extraClasses&quot;: &quot;fa-rotate-0&quot;, &quot;icon&quot;: &quot;info-sign&quot;, &quot;iconColor&quot;: &quot;white&quot;, &quot;markerColor&quot;: &quot;red&quot;, &quot;prefix&quot;: &quot;glyphicon&quot;}\n            );\n            marker_bd81c12d23a7163f81f11407d11c4a30.setIcon(icon_045967fe96c9fd569f917c8ab66bd4d0);\n        \n    \n        var popup_88ee4deeffe374074a4a2f7c2c3a0bdd = L.popup({&quot;maxWidth&quot;: &quot;100%&quot;});\n\n        \n            \n                var html_9bd8767057d8542295bc27eec5a320f0 = $(`&lt;div id=&quot;html_9bd8767057d8542295bc27eec5a320f0&quot; style=&quot;width: 100.0%; height: 100.0%;&quot;&gt;Launch Site: CCAFS SLC-40, Class: 0&lt;/div&gt;`)[0];\n                popup_88ee4deeffe374074a4a2f7c2c3a0bdd.setContent(html_9bd8767057d8542295bc27eec5a320f0);\n            \n        \n\n        marker_bd81c12d23a7163f81f11407d11c4a30.bindPopup(popup_88ee4deeffe374074a4a2f7c2c3a0bdd)\n        ;\n\n        \n    \n    \n            var marker_4f93622bb8d3223fa24069ef2bebd59b = L.marker(\n                [28.573255, -80.646895],\n                {}\n            ).addTo(marker_cluster_fe9a74020a91712de3144b0536d85632);\n        \n    \n            var icon_d1fa2d72b42dbaf65954ebaab7de93c1 = L.AwesomeMarkers.icon(\n                {&quot;extraClasses&quot;: &quot;fa-rotate-0&quot;, &quot;icon&quot;: &quot;info-sign&quot;, &quot;iconColor&quot;: &quot;white&quot;, &quot;markerColor&quot;: &quot;green&quot;, &quot;prefix&quot;: &quot;glyphicon&quot;}\n            );\n            marker_4f93622bb8d3223fa24069ef2bebd59b.setIcon(icon_d1fa2d72b42dbaf65954ebaab7de93c1);\n        \n    \n        var popup_c78352699b389167eb89d1594f18b3b8 = L.popup({&quot;maxWidth&quot;: &quot;100%&quot;});\n\n        \n            \n                var html_83503a9cd03fba8289214685b47dc4b4 = $(`&lt;div id=&quot;html_83503a9cd03fba8289214685b47dc4b4&quot; style=&quot;width: 100.0%; height: 100.0%;&quot;&gt;Launch Site: KSC LC-39A, Class: 1&lt;/div&gt;`)[0];\n                popup_c78352699b389167eb89d1594f18b3b8.setContent(html_83503a9cd03fba8289214685b47dc4b4);\n            \n        \n\n        marker_4f93622bb8d3223fa24069ef2bebd59b.bindPopup(popup_c78352699b389167eb89d1594f18b3b8)\n        ;\n\n        \n    \n    \n            var marker_c9764d4b1f7d13deca22f33776badde3 = L.marker(\n                [34.632834, -120.610745],\n                {}\n            ).addTo(marker_cluster_fe9a74020a91712de3144b0536d85632);\n        \n    \n            var icon_d0cbdf4a8e813862b28154e3f4da196e = L.AwesomeMarkers.icon(\n                {&quot;extraClasses&quot;: &quot;fa-rotate-0&quot;, &quot;icon&quot;: &quot;info-sign&quot;, &quot;iconColor&quot;: &quot;white&quot;, &quot;markerColor&quot;: &quot;red&quot;, &quot;prefix&quot;: &quot;glyphicon&quot;}\n            );\n            marker_c9764d4b1f7d13deca22f33776badde3.setIcon(icon_d0cbdf4a8e813862b28154e3f4da196e);\n        \n    \n        var popup_54f84db8b907e12d3cc42427be4f110b = L.popup({&quot;maxWidth&quot;: &quot;100%&quot;});\n\n        \n            \n                var html_7f7ddfe6228aed0b49f15c60654ce017 = $(`&lt;div id=&quot;html_7f7ddfe6228aed0b49f15c60654ce017&quot; style=&quot;width: 100.0%; height: 100.0%;&quot;&gt;Launch Site: VAFB SLC-4E, Class: 0&lt;/div&gt;`)[0];\n                popup_54f84db8b907e12d3cc42427be4f110b.setContent(html_7f7ddfe6228aed0b49f15c60654ce017);\n            \n        \n\n        marker_c9764d4b1f7d13deca22f33776badde3.bindPopup(popup_54f84db8b907e12d3cc42427be4f110b)\n        ;\n\n        \n    \n    \n            marker_cluster_fe9a74020a91712de3144b0536d85632.addTo(map_4b0f2ead2701a9d3b7bae21f4a824ca7);\n        \n&lt;/script&gt;\n&lt;/html&gt;\" style=\"position:absolute;width:100%;height:100%;left:0;top:0;border:none !important;\" allowfullscreen webkitallowfullscreen mozallowfullscreen></iframe></div></div>"
          },
          "metadata": {}
        }
      ],
      "execution_count": 24
    },
    {
      "cell_type": "markdown",
      "source": "Next, we need to explore and analyze the proximities of launch sites.\n",
      "metadata": {}
    },
    {
      "cell_type": "markdown",
      "source": "Let's first add a `MousePosition` on the map to get coordinate for a mouse over a point on the map. As such, while you are exploring the map, you can easily find the coordinates of any points of interests (such as railway)\n",
      "metadata": {}
    },
    {
      "cell_type": "code",
      "source": "# Add Mouse Position to get the coordinate (Lat, Long) for a mouse over on the map\nformatter = \"function(num) {return L.Util.formatNum(num, 5);};\"\nmouse_position = MousePosition(\n    position='topright',\n    separator=' Long: ',\n    empty_string='NaN',\n    lng_first=False,\n    num_digits=20,\n    prefix='Lat:',\n    lat_formatter=formatter,\n    lng_formatter=formatter,\n)\n\nsite_map.add_child(mouse_position)\nsite_map",
      "metadata": {
        "trusted": true
      },
      "outputs": [
        {
          "execution_count": 22,
          "output_type": "execute_result",
          "data": {
            "text/plain": "<folium.folium.Map at 0x5b567a0>",
            "text/html": "<div style=\"width:100%;\"><div style=\"position:relative;width:100%;height:0;padding-bottom:60%;\"><span style=\"color:#565656\">Make this Notebook Trusted to load map: File -> Trust Notebook</span><iframe srcdoc=\"&lt;!DOCTYPE html&gt;\n&lt;html&gt;\n&lt;head&gt;\n    \n    &lt;meta http-equiv=&quot;content-type&quot; content=&quot;text/html; charset=UTF-8&quot; /&gt;\n    \n        &lt;script&gt;\n            L_NO_TOUCH = false;\n            L_DISABLE_3D = false;\n        &lt;/script&gt;\n    \n    &lt;style&gt;html, body {width: 100%;height: 100%;margin: 0;padding: 0;}&lt;/style&gt;\n    &lt;style&gt;#map {position:absolute;top:0;bottom:0;right:0;left:0;}&lt;/style&gt;\n    &lt;script src=&quot;https://cdn.jsdelivr.net/npm/leaflet@1.9.3/dist/leaflet.js&quot;&gt;&lt;/script&gt;\n    &lt;script src=&quot;https://code.jquery.com/jquery-3.7.1.min.js&quot;&gt;&lt;/script&gt;\n    &lt;script src=&quot;https://cdn.jsdelivr.net/npm/bootstrap@5.2.2/dist/js/bootstrap.bundle.min.js&quot;&gt;&lt;/script&gt;\n    &lt;script src=&quot;https://cdnjs.cloudflare.com/ajax/libs/Leaflet.awesome-markers/2.0.2/leaflet.awesome-markers.js&quot;&gt;&lt;/script&gt;\n    &lt;link rel=&quot;stylesheet&quot; href=&quot;https://cdn.jsdelivr.net/npm/leaflet@1.9.3/dist/leaflet.css&quot;/&gt;\n    &lt;link rel=&quot;stylesheet&quot; href=&quot;https://cdn.jsdelivr.net/npm/bootstrap@5.2.2/dist/css/bootstrap.min.css&quot;/&gt;\n    &lt;link rel=&quot;stylesheet&quot; href=&quot;https://netdna.bootstrapcdn.com/bootstrap/3.0.0/css/bootstrap-glyphicons.css&quot;/&gt;\n    &lt;link rel=&quot;stylesheet&quot; href=&quot;https://cdn.jsdelivr.net/npm/@fortawesome/fontawesome-free@6.2.0/css/all.min.css&quot;/&gt;\n    &lt;link rel=&quot;stylesheet&quot; href=&quot;https://cdnjs.cloudflare.com/ajax/libs/Leaflet.awesome-markers/2.0.2/leaflet.awesome-markers.css&quot;/&gt;\n    &lt;link rel=&quot;stylesheet&quot; href=&quot;https://cdn.jsdelivr.net/gh/python-visualization/folium/folium/templates/leaflet.awesome.rotate.min.css&quot;/&gt;\n    \n            &lt;meta name=&quot;viewport&quot; content=&quot;width=device-width,\n                initial-scale=1.0, maximum-scale=1.0, user-scalable=no&quot; /&gt;\n            &lt;style&gt;\n                #map_59acd5c55e2bbc773ecae1f716d89da9 {\n                    position: relative;\n                    width: 100.0%;\n                    height: 100.0%;\n                    left: 0.0%;\n                    top: 0.0%;\n                }\n                .leaflet-container { font-size: 1rem; }\n            &lt;/style&gt;\n        \n    &lt;script src=&quot;https://cdn.jsdelivr.net/gh/ardhi/Leaflet.MousePosition/src/L.Control.MousePosition.min.js&quot;&gt;&lt;/script&gt;\n    &lt;link rel=&quot;stylesheet&quot; href=&quot;https://cdn.jsdelivr.net/gh/ardhi/Leaflet.MousePosition/src/L.Control.MousePosition.min.css&quot;/&gt;\n&lt;/head&gt;\n&lt;body&gt;\n    \n    \n            &lt;div class=&quot;folium-map&quot; id=&quot;map_59acd5c55e2bbc773ecae1f716d89da9&quot; &gt;&lt;/div&gt;\n        \n&lt;/body&gt;\n&lt;script&gt;\n    \n    \n            var map_59acd5c55e2bbc773ecae1f716d89da9 = L.map(\n                &quot;map_59acd5c55e2bbc773ecae1f716d89da9&quot;,\n                {\n                    center: [29.559684888503615, -95.0830971930759],\n                    crs: L.CRS.EPSG3857,\n                    zoom: 5,\n                    zoomControl: true,\n                    preferCanvas: false,\n                }\n            );\n\n            \n\n        \n    \n            var tile_layer_b69dade506604d306a17b6236eea382e = L.tileLayer(\n                &quot;https://tile.openstreetmap.org/{z}/{x}/{y}.png&quot;,\n                {&quot;attribution&quot;: &quot;\\u0026copy; \\u003ca href=\\&quot;https://www.openstreetmap.org/copyright\\&quot;\\u003eOpenStreetMap\\u003c/a\\u003e contributors&quot;, &quot;detectRetina&quot;: false, &quot;maxNativeZoom&quot;: 19, &quot;maxZoom&quot;: 19, &quot;minZoom&quot;: 0, &quot;noWrap&quot;: false, &quot;opacity&quot;: 1, &quot;subdomains&quot;: &quot;abc&quot;, &quot;tms&quot;: false}\n            );\n        \n    \n            tile_layer_b69dade506604d306a17b6236eea382e.addTo(map_59acd5c55e2bbc773ecae1f716d89da9);\n        \n    \n            var mouse_position_ca9855d848556adcb2e683876e1f033a = new L.Control.MousePosition(\n                {&quot;emptyString&quot;: &quot;NaN&quot;, &quot;lngFirst&quot;: false, &quot;numDigits&quot;: 20, &quot;position&quot;: &quot;topright&quot;, &quot;prefix&quot;: &quot;Lat:&quot;, &quot;separator&quot;: &quot; Long: &quot;}\n            );\n            mouse_position_ca9855d848556adcb2e683876e1f033a.options[&quot;latFormatter&quot;] =\n                function(num) {return L.Util.formatNum(num, 5);};;\n            mouse_position_ca9855d848556adcb2e683876e1f033a.options[&quot;lngFormatter&quot;] =\n                function(num) {return L.Util.formatNum(num, 5);};;\n            map_59acd5c55e2bbc773ecae1f716d89da9.addControl(mouse_position_ca9855d848556adcb2e683876e1f033a);\n        \n&lt;/script&gt;\n&lt;/html&gt;\" style=\"position:absolute;width:100%;height:100%;left:0;top:0;border:none !important;\" allowfullscreen webkitallowfullscreen mozallowfullscreen></iframe></div></div>"
          },
          "metadata": {}
        }
      ],
      "execution_count": 22
    },
    {
      "cell_type": "markdown",
      "source": "Now zoom in to a launch site and explore its proximity to see if you can easily find any railway, highway, coastline, etc. Move your mouse to these points and mark down their coordinates (shown on the top-left) in order to the distance to the launch site.\n",
      "metadata": {}
    },
    {
      "cell_type": "markdown",
      "source": "Now zoom in to a launch site and explore its proximity to see if you can easily find any railway, highway, coastline, etc. Move your mouse to these points and mark down their coordinates (shown on the top-left) in order to the distance to the launch site.\n",
      "metadata": {}
    },
    {
      "cell_type": "code",
      "source": "from math import sin, cos, sqrt, atan2, radians\n\ndef calculate_distance(lat1, lon1, lat2, lon2):\n    # approximate radius of earth in km\n    R = 6373.0\n\n    lat1 = radians(lat1)\n    lon1 = radians(lon1)\n    lat2 = radians(lat2)\n    lon2 = radians(lon2)\n\n    dlon = lon2 - lon1\n    dlat = lat2 - lat1\n\n    a = sin(dlat / 2)**2 + cos(lat1) * cos(lat2) * sin(dlon / 2)**2\n    c = 2 * atan2(sqrt(a), sqrt(1 - a))\n\n    distance = R * c\n    return distance",
      "metadata": {
        "trusted": true
      },
      "outputs": [],
      "execution_count": 23
    },
    {
      "cell_type": "markdown",
      "source": "*TODO:* Mark down a point on the closest coastline using MousePosition and calculate the distance between the coastline point and the launch site.\n",
      "metadata": {}
    },
    {
      "cell_type": "code",
      "source": "# find coordinate of the closet coastline\n# e.g.,: Lat: 28.56367  Lon: -80.57163\n# distance_coastline = calculate_distance(launch_site_lat, launch_site_lon, coastline_lat, coastline_lon)",
      "metadata": {},
      "outputs": [],
      "execution_count": null
    },
    {
      "cell_type": "code",
      "source": "# Create and add a folium.Marker on your selected closest coastline point on the map\n# Display the distance between coastline point and launch site using the icon property \n# for example\n# distance_marker = folium.Marker(\n#    coordinate,\n#    icon=DivIcon(\n#        icon_size=(20,20),\n#        icon_anchor=(0,0),\n#        html='<div style=\"font-size: 12; color:#d35400;\"><b>%s</b></div>' % \"{:10.2f} KM\".format(distance),\n#        )\n#    )",
      "metadata": {},
      "outputs": [],
      "execution_count": null
    },
    {
      "cell_type": "code",
      "source": "# Function to calculate distance using the Haversine formula\ndef calculate_distance(lat1, lon1, lat2, lon2):\n    R = 6371.0  # Earth radius in kilometers\n    lat1, lon1, lat2, lon2 = map(radians, [lat1, lon1, lat2, lon2])\n    \n    dlat = lat2 - lat1\n    dlon = lon2 - lon1\n    a = sin(dlat / 2)**2 + cos(lat1) * cos(lat2) * sin(dlon / 2)**2\n    c = 2 * atan2(sqrt(a), sqrt(1 - a))\n    distance = R * c\n    \n    return distance\n\n# Coordinates of the launch site (CCAFS LC-40)\nlaunch_site_lat = 28.562302\nlaunch_site_lon = -80.577356\n\n# Coordinates of the closest coastline point (found using MousePosition or similar tool)\ncoastline_lat = 28.56367\ncoastline_lon = -80.57163\n\n# Calculate the distance between the launch site and the coastline\ndistance_coastline = calculate_distance(launch_site_lat, launch_site_lon, coastline_lat, coastline_lon)\n\n# Create a map centered around the launch site\nsite_map = folium.Map(location=[launch_site_lat, launch_site_lon], zoom_start=15)\n\n# Add a marker for the launch site\nfolium.Marker(\n    location=[launch_site_lat, launch_site_lon],\n    popup=\"CCAFS LC-40 Launch Site\",\n    icon=folium.Icon(color='blue')\n).add_to(site_map)\n\n# Add a marker for the closest coastline point\nfolium.Marker(\n    location=[coastline_lat, coastline_lon],\n    popup=\"Closest Coastline Point\",\n    icon=folium.Icon(color='green')\n).add_to(site_map)\n\n# Display the distance between the launch site and coastline using a DivIcon\ndistance_marker = folium.Marker(\n    location=[coastline_lat, coastline_lon],\n    icon=DivIcon(\n        icon_size=(20,20),\n        icon_anchor=(0,0),\n        html='<div style=\"font-size: 12; color:#d35400;\"><b>%s</b></div>' % \"{:10.2f} KM\".format(distance_coastline),\n    )\n).add_to(site_map)\n\n# Draw a PolyLine between the launch site and the coastline\nlines = folium.PolyLine(locations=[[launch_site_lat, launch_site_lon], [coastline_lat, coastline_lon]], weight=1)\nsite_map.add_child(lines)\n\n# Add a MousePosition plugin to get coordinates interactively\nmouse_position = MousePosition(\n    position='topright',\n    separator=' Long: ',\n    prefix=\"Lat:\",\n)\nsite_map.add_child(mouse_position)\n\n# Display the map\nsite_map\n",
      "metadata": {
        "trusted": true
      },
      "outputs": [
        {
          "execution_count": 25,
          "output_type": "execute_result",
          "data": {
            "text/plain": "<folium.folium.Map at 0x5f01f40>",
            "text/html": "<div style=\"width:100%;\"><div style=\"position:relative;width:100%;height:0;padding-bottom:60%;\"><span style=\"color:#565656\">Make this Notebook Trusted to load map: File -> Trust Notebook</span><iframe srcdoc=\"&lt;!DOCTYPE html&gt;\n&lt;html&gt;\n&lt;head&gt;\n    \n    &lt;meta http-equiv=&quot;content-type&quot; content=&quot;text/html; charset=UTF-8&quot; /&gt;\n    \n        &lt;script&gt;\n            L_NO_TOUCH = false;\n            L_DISABLE_3D = false;\n        &lt;/script&gt;\n    \n    &lt;style&gt;html, body {width: 100%;height: 100%;margin: 0;padding: 0;}&lt;/style&gt;\n    &lt;style&gt;#map {position:absolute;top:0;bottom:0;right:0;left:0;}&lt;/style&gt;\n    &lt;script src=&quot;https://cdn.jsdelivr.net/npm/leaflet@1.9.3/dist/leaflet.js&quot;&gt;&lt;/script&gt;\n    &lt;script src=&quot;https://code.jquery.com/jquery-3.7.1.min.js&quot;&gt;&lt;/script&gt;\n    &lt;script src=&quot;https://cdn.jsdelivr.net/npm/bootstrap@5.2.2/dist/js/bootstrap.bundle.min.js&quot;&gt;&lt;/script&gt;\n    &lt;script src=&quot;https://cdnjs.cloudflare.com/ajax/libs/Leaflet.awesome-markers/2.0.2/leaflet.awesome-markers.js&quot;&gt;&lt;/script&gt;\n    &lt;link rel=&quot;stylesheet&quot; href=&quot;https://cdn.jsdelivr.net/npm/leaflet@1.9.3/dist/leaflet.css&quot;/&gt;\n    &lt;link rel=&quot;stylesheet&quot; href=&quot;https://cdn.jsdelivr.net/npm/bootstrap@5.2.2/dist/css/bootstrap.min.css&quot;/&gt;\n    &lt;link rel=&quot;stylesheet&quot; href=&quot;https://netdna.bootstrapcdn.com/bootstrap/3.0.0/css/bootstrap-glyphicons.css&quot;/&gt;\n    &lt;link rel=&quot;stylesheet&quot; href=&quot;https://cdn.jsdelivr.net/npm/@fortawesome/fontawesome-free@6.2.0/css/all.min.css&quot;/&gt;\n    &lt;link rel=&quot;stylesheet&quot; href=&quot;https://cdnjs.cloudflare.com/ajax/libs/Leaflet.awesome-markers/2.0.2/leaflet.awesome-markers.css&quot;/&gt;\n    &lt;link rel=&quot;stylesheet&quot; href=&quot;https://cdn.jsdelivr.net/gh/python-visualization/folium/folium/templates/leaflet.awesome.rotate.min.css&quot;/&gt;\n    \n            &lt;meta name=&quot;viewport&quot; content=&quot;width=device-width,\n                initial-scale=1.0, maximum-scale=1.0, user-scalable=no&quot; /&gt;\n            &lt;style&gt;\n                #map_173f5852ecbaec2f6bb120f1e2e13ace {\n                    position: relative;\n                    width: 100.0%;\n                    height: 100.0%;\n                    left: 0.0%;\n                    top: 0.0%;\n                }\n                .leaflet-container { font-size: 1rem; }\n            &lt;/style&gt;\n        \n    &lt;script src=&quot;https://cdn.jsdelivr.net/gh/ardhi/Leaflet.MousePosition/src/L.Control.MousePosition.min.js&quot;&gt;&lt;/script&gt;\n    &lt;link rel=&quot;stylesheet&quot; href=&quot;https://cdn.jsdelivr.net/gh/ardhi/Leaflet.MousePosition/src/L.Control.MousePosition.min.css&quot;/&gt;\n&lt;/head&gt;\n&lt;body&gt;\n    \n    \n            &lt;div class=&quot;folium-map&quot; id=&quot;map_173f5852ecbaec2f6bb120f1e2e13ace&quot; &gt;&lt;/div&gt;\n        \n&lt;/body&gt;\n&lt;script&gt;\n    \n    \n            var map_173f5852ecbaec2f6bb120f1e2e13ace = L.map(\n                &quot;map_173f5852ecbaec2f6bb120f1e2e13ace&quot;,\n                {\n                    center: [28.562302, -80.577356],\n                    crs: L.CRS.EPSG3857,\n                    zoom: 15,\n                    zoomControl: true,\n                    preferCanvas: false,\n                }\n            );\n\n            \n\n        \n    \n            var tile_layer_12c03a6dca8183fea67a2ca43562dc40 = L.tileLayer(\n                &quot;https://tile.openstreetmap.org/{z}/{x}/{y}.png&quot;,\n                {&quot;attribution&quot;: &quot;\\u0026copy; \\u003ca href=\\&quot;https://www.openstreetmap.org/copyright\\&quot;\\u003eOpenStreetMap\\u003c/a\\u003e contributors&quot;, &quot;detectRetina&quot;: false, &quot;maxNativeZoom&quot;: 19, &quot;maxZoom&quot;: 19, &quot;minZoom&quot;: 0, &quot;noWrap&quot;: false, &quot;opacity&quot;: 1, &quot;subdomains&quot;: &quot;abc&quot;, &quot;tms&quot;: false}\n            );\n        \n    \n            tile_layer_12c03a6dca8183fea67a2ca43562dc40.addTo(map_173f5852ecbaec2f6bb120f1e2e13ace);\n        \n    \n            var marker_181da3bb6f304598026e03230fe5b04f = L.marker(\n                [28.562302, -80.577356],\n                {}\n            ).addTo(map_173f5852ecbaec2f6bb120f1e2e13ace);\n        \n    \n            var icon_cb151bd9396a07489e3d84d1b341ee72 = L.AwesomeMarkers.icon(\n                {&quot;extraClasses&quot;: &quot;fa-rotate-0&quot;, &quot;icon&quot;: &quot;info-sign&quot;, &quot;iconColor&quot;: &quot;white&quot;, &quot;markerColor&quot;: &quot;blue&quot;, &quot;prefix&quot;: &quot;glyphicon&quot;}\n            );\n            marker_181da3bb6f304598026e03230fe5b04f.setIcon(icon_cb151bd9396a07489e3d84d1b341ee72);\n        \n    \n        var popup_3ff3767f250c8b2cebc9e7dacace1f61 = L.popup({&quot;maxWidth&quot;: &quot;100%&quot;});\n\n        \n            \n                var html_9add28d4e3690fea11b994542c900d2e = $(`&lt;div id=&quot;html_9add28d4e3690fea11b994542c900d2e&quot; style=&quot;width: 100.0%; height: 100.0%;&quot;&gt;CCAFS LC-40 Launch Site&lt;/div&gt;`)[0];\n                popup_3ff3767f250c8b2cebc9e7dacace1f61.setContent(html_9add28d4e3690fea11b994542c900d2e);\n            \n        \n\n        marker_181da3bb6f304598026e03230fe5b04f.bindPopup(popup_3ff3767f250c8b2cebc9e7dacace1f61)\n        ;\n\n        \n    \n    \n            var marker_76b44def2bc39a90127af89863bc7b16 = L.marker(\n                [28.56367, -80.57163],\n                {}\n            ).addTo(map_173f5852ecbaec2f6bb120f1e2e13ace);\n        \n    \n            var icon_a8b7b490668c67d5c069bbda437db8c7 = L.AwesomeMarkers.icon(\n                {&quot;extraClasses&quot;: &quot;fa-rotate-0&quot;, &quot;icon&quot;: &quot;info-sign&quot;, &quot;iconColor&quot;: &quot;white&quot;, &quot;markerColor&quot;: &quot;green&quot;, &quot;prefix&quot;: &quot;glyphicon&quot;}\n            );\n            marker_76b44def2bc39a90127af89863bc7b16.setIcon(icon_a8b7b490668c67d5c069bbda437db8c7);\n        \n    \n        var popup_e923422bfac32fd31b042001de9d27f7 = L.popup({&quot;maxWidth&quot;: &quot;100%&quot;});\n\n        \n            \n                var html_cc4e63514b09073a389e220317a85542 = $(`&lt;div id=&quot;html_cc4e63514b09073a389e220317a85542&quot; style=&quot;width: 100.0%; height: 100.0%;&quot;&gt;Closest Coastline Point&lt;/div&gt;`)[0];\n                popup_e923422bfac32fd31b042001de9d27f7.setContent(html_cc4e63514b09073a389e220317a85542);\n            \n        \n\n        marker_76b44def2bc39a90127af89863bc7b16.bindPopup(popup_e923422bfac32fd31b042001de9d27f7)\n        ;\n\n        \n    \n    \n            var marker_b9f1caf72d1628178450e919135cf1f3 = L.marker(\n                [28.56367, -80.57163],\n                {}\n            ).addTo(map_173f5852ecbaec2f6bb120f1e2e13ace);\n        \n    \n            var div_icon_a548fe643508d949d4ad1b57e9034dae = L.divIcon({&quot;className&quot;: &quot;empty&quot;, &quot;html&quot;: &quot;\\u003cdiv style=\\&quot;font-size: 12; color:#d35400;\\&quot;\\u003e\\u003cb\\u003e      0.58 KM\\u003c/b\\u003e\\u003c/div\\u003e&quot;, &quot;iconAnchor&quot;: [0, 0], &quot;iconSize&quot;: [20, 20]});\n            marker_b9f1caf72d1628178450e919135cf1f3.setIcon(div_icon_a548fe643508d949d4ad1b57e9034dae);\n        \n    \n            var poly_line_6a840c78e9dfe9ce3038470070dd474f = L.polyline(\n                [[28.562302, -80.577356], [28.56367, -80.57163]],\n                {&quot;bubblingMouseEvents&quot;: true, &quot;color&quot;: &quot;#3388ff&quot;, &quot;dashArray&quot;: null, &quot;dashOffset&quot;: null, &quot;fill&quot;: false, &quot;fillColor&quot;: &quot;#3388ff&quot;, &quot;fillOpacity&quot;: 0.2, &quot;fillRule&quot;: &quot;evenodd&quot;, &quot;lineCap&quot;: &quot;round&quot;, &quot;lineJoin&quot;: &quot;round&quot;, &quot;noClip&quot;: false, &quot;opacity&quot;: 1.0, &quot;smoothFactor&quot;: 1.0, &quot;stroke&quot;: true, &quot;weight&quot;: 1}\n            ).addTo(map_173f5852ecbaec2f6bb120f1e2e13ace);\n        \n    \n            var mouse_position_8fa5af74ca413ce45e8b1f1c8c2de35e = new L.Control.MousePosition(\n                {&quot;emptyString&quot;: &quot;Unavailable&quot;, &quot;lngFirst&quot;: false, &quot;numDigits&quot;: 5, &quot;position&quot;: &quot;topright&quot;, &quot;prefix&quot;: &quot;Lat:&quot;, &quot;separator&quot;: &quot; Long: &quot;}\n            );\n            mouse_position_8fa5af74ca413ce45e8b1f1c8c2de35e.options[&quot;latFormatter&quot;] =\n                undefined;\n            mouse_position_8fa5af74ca413ce45e8b1f1c8c2de35e.options[&quot;lngFormatter&quot;] =\n                undefined;\n            map_173f5852ecbaec2f6bb120f1e2e13ace.addControl(mouse_position_8fa5af74ca413ce45e8b1f1c8c2de35e);\n        \n&lt;/script&gt;\n&lt;/html&gt;\" style=\"position:absolute;width:100%;height:100%;left:0;top:0;border:none !important;\" allowfullscreen webkitallowfullscreen mozallowfullscreen></iframe></div></div>"
          },
          "metadata": {}
        }
      ],
      "execution_count": 25
    },
    {
      "cell_type": "markdown",
      "source": "*TODO:* Draw a `PolyLine` between a launch site to the selected coastline point\n",
      "metadata": {}
    },
    {
      "cell_type": "code",
      "source": "# Create a `folium.PolyLine` object using the coastline coordinates and launch site coordinate\n# lines=folium.PolyLine(locations=coordinates, weight=1)\nsite_map.add_child(lines)",
      "metadata": {},
      "outputs": [],
      "execution_count": null
    },
    {
      "cell_type": "markdown",
      "source": "Your updated map with distance line should look like the following screenshot:\n",
      "metadata": {}
    },
    {
      "cell_type": "markdown",
      "source": "<center>\n    <img src=\"https://cf-courses-data.s3.us.cloud-object-storage.appdomain.cloud/IBM-DS0321EN-SkillsNetwork/labs/module_3/images/launch_site_marker_distance.png\">\n</center>\n",
      "metadata": {}
    },
    {
      "cell_type": "markdown",
      "source": "*TODO:* Similarly, you can draw a line betwee a launch site to its closest city, railway, highway, etc. You need to use `MousePosition` to find the their coordinates on the map first\n",
      "metadata": {}
    },
    {
      "cell_type": "markdown",
      "source": "A railway map symbol may look like this:\n",
      "metadata": {}
    },
    {
      "cell_type": "markdown",
      "source": "<center>\n    <img src=\"https://cf-courses-data.s3.us.cloud-object-storage.appdomain.cloud/IBM-DS0321EN-SkillsNetwork/labs/module_3/images/railway.png\">\n</center>\n",
      "metadata": {}
    },
    {
      "cell_type": "markdown",
      "source": "A highway map symbol may look like this:\n",
      "metadata": {}
    },
    {
      "cell_type": "markdown",
      "source": "<center>\n    <img src=\"https://cf-courses-data.s3.us.cloud-object-storage.appdomain.cloud/IBM-DS0321EN-SkillsNetwork/labs/module_3/images/highway.png\">\n</center>\n",
      "metadata": {}
    },
    {
      "cell_type": "markdown",
      "source": "A city map symbol may look like this:\n",
      "metadata": {}
    },
    {
      "cell_type": "markdown",
      "source": "<center>\n    <img src=\"https://cf-courses-data.s3.us.cloud-object-storage.appdomain.cloud/IBM-DS0321EN-SkillsNetwork/labs/module_3/images/city.png\">\n</center>\n",
      "metadata": {}
    },
    {
      "cell_type": "code",
      "source": "# Create a marker with distance to a closest city, railway, highway, etc.\n# Draw a line between the marker to the launch site\n",
      "metadata": {},
      "outputs": [],
      "execution_count": null
    },
    {
      "cell_type": "code",
      "source": "import folium\nfrom folium.features import DivIcon\nfrom math import radians, sin, cos, sqrt, atan2\n\n# Function to calculate distance using the Haversine formula\ndef calculate_distance(lat1, lon1, lat2, lon2):\n    R = 6371.0  # Earth radius in kilometers\n    lat1, lon1, lat2, lon2 = map(radians, [lat1, lon1, lat2, lon2])\n    \n    dlat = lat2 - lat1\n    dlon = lon2 - lon1\n    a = sin(dlat / 2)**2 + cos(lat1) * cos(lat2) * sin(dlon / 2)**2\n    c = 2 * atan2(sqrt(a), sqrt(1 - a))\n    distance = R * c\n    \n    return distance\n\n# Coordinates of the launch site (CCAFS LC-40)\nlaunch_site_lat = 28.562302\nlaunch_site_lon = -80.577356\n\n# Coordinates of the closest city (example: Titusville, Florida)\ncity_lat = 28.6120\ncity_lon = -80.8075\n\n# Coordinates of the closest railway (example: Florida East Coast Railway)\nrailway_lat = 28.5720\nrailway_lon = -80.6540\n\n# Coordinates of the closest highway (example: Route 1)\nhighway_lat = 28.5710\nhighway_lon = -80.6720\n\n# Calculate distances\ndistance_city = calculate_distance(launch_site_lat, launch_site_lon, city_lat, city_lon)\ndistance_railway = calculate_distance(launch_site_lat, launch_site_lon, railway_lat, railway_lon)\ndistance_highway = calculate_distance(launch_site_lat, launch_site_lon, highway_lat, highway_lon)\n\n# Create a map centered around the launch site\nsite_map = folium.Map(location=[launch_site_lat, launch_site_lon], zoom_start=10)\n\n# Add a marker for the launch site\nfolium.Marker(\n    location=[launch_site_lat, launch_site_lon],\n    popup=\"CCAFS LC-40 Launch Site\",\n    icon=folium.Icon(color='blue')\n).add_to(site_map)\n\n# Add a marker for the closest city\nfolium.Marker(\n    location=[city_lat, city_lon],\n    popup=\"Closest City: Titusville\",\n    icon=folium.Icon(color='green')\n).add_to(site_map)\n\n# Display the distance to the closest city using a DivIcon\ncity_distance_marker = folium.Marker(\n    location=[city_lat, city_lon],\n    icon=DivIcon(\n        icon_size=(20,20),\n        icon_anchor=(0,0),\n        html='<div style=\"font-size: 12; color:#d35400;\"><b>%s</b></div>' % \"{:10.2f} KM\".format(distance_city),\n    )\n).add_to(site_map)\n\n# Draw a PolyLine between the launch site and the closest city\nfolium.PolyLine(locations=[[launch_site_lat, launch_site_lon], [city_lat, city_lon]], weight=1, color='blue').add_to(site_map)\n\n# Add a marker and a line for the closest railway\nfolium.Marker(\n    location=[railway_lat, railway_lon],\n    popup=\"Closest Railway\",\n    icon=folium.Icon(color='red')\n).add_to(site_map)\n\nfolium.PolyLine(locations=[[launch_site_lat, launch_site_lon], [railway_lat, railway_lon]], weight=1, color='red').add_to(site_map)\n\n# Add a marker and a line for the closest highway\nfolium.Marker(\n    location=[highway_lat, highway_lon],\n    popup=\"Closest Highway\",\n    icon=folium.Icon(color='orange')\n).add_to(site_map)\n\nfolium.PolyLine(locations=[[launch_site_lat, launch_site_lon], [highway_lat, highway_lon]], weight=1, color='orange').add_to(site_map)\n\n# Display the map\nsite_map\n",
      "metadata": {
        "trusted": true
      },
      "outputs": [
        {
          "execution_count": 26,
          "output_type": "execute_result",
          "data": {
            "text/plain": "<folium.folium.Map at 0x5c21c10>",
            "text/html": "<div style=\"width:100%;\"><div style=\"position:relative;width:100%;height:0;padding-bottom:60%;\"><span style=\"color:#565656\">Make this Notebook Trusted to load map: File -> Trust Notebook</span><iframe srcdoc=\"&lt;!DOCTYPE html&gt;\n&lt;html&gt;\n&lt;head&gt;\n    \n    &lt;meta http-equiv=&quot;content-type&quot; content=&quot;text/html; charset=UTF-8&quot; /&gt;\n    \n        &lt;script&gt;\n            L_NO_TOUCH = false;\n            L_DISABLE_3D = false;\n        &lt;/script&gt;\n    \n    &lt;style&gt;html, body {width: 100%;height: 100%;margin: 0;padding: 0;}&lt;/style&gt;\n    &lt;style&gt;#map {position:absolute;top:0;bottom:0;right:0;left:0;}&lt;/style&gt;\n    &lt;script src=&quot;https://cdn.jsdelivr.net/npm/leaflet@1.9.3/dist/leaflet.js&quot;&gt;&lt;/script&gt;\n    &lt;script src=&quot;https://code.jquery.com/jquery-3.7.1.min.js&quot;&gt;&lt;/script&gt;\n    &lt;script src=&quot;https://cdn.jsdelivr.net/npm/bootstrap@5.2.2/dist/js/bootstrap.bundle.min.js&quot;&gt;&lt;/script&gt;\n    &lt;script src=&quot;https://cdnjs.cloudflare.com/ajax/libs/Leaflet.awesome-markers/2.0.2/leaflet.awesome-markers.js&quot;&gt;&lt;/script&gt;\n    &lt;link rel=&quot;stylesheet&quot; href=&quot;https://cdn.jsdelivr.net/npm/leaflet@1.9.3/dist/leaflet.css&quot;/&gt;\n    &lt;link rel=&quot;stylesheet&quot; href=&quot;https://cdn.jsdelivr.net/npm/bootstrap@5.2.2/dist/css/bootstrap.min.css&quot;/&gt;\n    &lt;link rel=&quot;stylesheet&quot; href=&quot;https://netdna.bootstrapcdn.com/bootstrap/3.0.0/css/bootstrap-glyphicons.css&quot;/&gt;\n    &lt;link rel=&quot;stylesheet&quot; href=&quot;https://cdn.jsdelivr.net/npm/@fortawesome/fontawesome-free@6.2.0/css/all.min.css&quot;/&gt;\n    &lt;link rel=&quot;stylesheet&quot; href=&quot;https://cdnjs.cloudflare.com/ajax/libs/Leaflet.awesome-markers/2.0.2/leaflet.awesome-markers.css&quot;/&gt;\n    &lt;link rel=&quot;stylesheet&quot; href=&quot;https://cdn.jsdelivr.net/gh/python-visualization/folium/folium/templates/leaflet.awesome.rotate.min.css&quot;/&gt;\n    \n            &lt;meta name=&quot;viewport&quot; content=&quot;width=device-width,\n                initial-scale=1.0, maximum-scale=1.0, user-scalable=no&quot; /&gt;\n            &lt;style&gt;\n                #map_125a336e72063e2140c246d391bf8377 {\n                    position: relative;\n                    width: 100.0%;\n                    height: 100.0%;\n                    left: 0.0%;\n                    top: 0.0%;\n                }\n                .leaflet-container { font-size: 1rem; }\n            &lt;/style&gt;\n        \n&lt;/head&gt;\n&lt;body&gt;\n    \n    \n            &lt;div class=&quot;folium-map&quot; id=&quot;map_125a336e72063e2140c246d391bf8377&quot; &gt;&lt;/div&gt;\n        \n&lt;/body&gt;\n&lt;script&gt;\n    \n    \n            var map_125a336e72063e2140c246d391bf8377 = L.map(\n                &quot;map_125a336e72063e2140c246d391bf8377&quot;,\n                {\n                    center: [28.562302, -80.577356],\n                    crs: L.CRS.EPSG3857,\n                    zoom: 10,\n                    zoomControl: true,\n                    preferCanvas: false,\n                }\n            );\n\n            \n\n        \n    \n            var tile_layer_ccd15a4c1bea820e596630e8ec1545fa = L.tileLayer(\n                &quot;https://tile.openstreetmap.org/{z}/{x}/{y}.png&quot;,\n                {&quot;attribution&quot;: &quot;\\u0026copy; \\u003ca href=\\&quot;https://www.openstreetmap.org/copyright\\&quot;\\u003eOpenStreetMap\\u003c/a\\u003e contributors&quot;, &quot;detectRetina&quot;: false, &quot;maxNativeZoom&quot;: 19, &quot;maxZoom&quot;: 19, &quot;minZoom&quot;: 0, &quot;noWrap&quot;: false, &quot;opacity&quot;: 1, &quot;subdomains&quot;: &quot;abc&quot;, &quot;tms&quot;: false}\n            );\n        \n    \n            tile_layer_ccd15a4c1bea820e596630e8ec1545fa.addTo(map_125a336e72063e2140c246d391bf8377);\n        \n    \n            var marker_d37badf031505710b52d26acf866c6cf = L.marker(\n                [28.562302, -80.577356],\n                {}\n            ).addTo(map_125a336e72063e2140c246d391bf8377);\n        \n    \n            var icon_9e33ba362637b2b689a925080619873f = L.AwesomeMarkers.icon(\n                {&quot;extraClasses&quot;: &quot;fa-rotate-0&quot;, &quot;icon&quot;: &quot;info-sign&quot;, &quot;iconColor&quot;: &quot;white&quot;, &quot;markerColor&quot;: &quot;blue&quot;, &quot;prefix&quot;: &quot;glyphicon&quot;}\n            );\n            marker_d37badf031505710b52d26acf866c6cf.setIcon(icon_9e33ba362637b2b689a925080619873f);\n        \n    \n        var popup_1409d99719f19809d602096acb3a6ee8 = L.popup({&quot;maxWidth&quot;: &quot;100%&quot;});\n\n        \n            \n                var html_fc5702fd361f376e89ed5b98f202da62 = $(`&lt;div id=&quot;html_fc5702fd361f376e89ed5b98f202da62&quot; style=&quot;width: 100.0%; height: 100.0%;&quot;&gt;CCAFS LC-40 Launch Site&lt;/div&gt;`)[0];\n                popup_1409d99719f19809d602096acb3a6ee8.setContent(html_fc5702fd361f376e89ed5b98f202da62);\n            \n        \n\n        marker_d37badf031505710b52d26acf866c6cf.bindPopup(popup_1409d99719f19809d602096acb3a6ee8)\n        ;\n\n        \n    \n    \n            var marker_e5fd9d4c144b6f7e8890c637f2c1d87a = L.marker(\n                [28.612, -80.8075],\n                {}\n            ).addTo(map_125a336e72063e2140c246d391bf8377);\n        \n    \n            var icon_5f33acae528db8178e3d2a334c125d03 = L.AwesomeMarkers.icon(\n                {&quot;extraClasses&quot;: &quot;fa-rotate-0&quot;, &quot;icon&quot;: &quot;info-sign&quot;, &quot;iconColor&quot;: &quot;white&quot;, &quot;markerColor&quot;: &quot;green&quot;, &quot;prefix&quot;: &quot;glyphicon&quot;}\n            );\n            marker_e5fd9d4c144b6f7e8890c637f2c1d87a.setIcon(icon_5f33acae528db8178e3d2a334c125d03);\n        \n    \n        var popup_779c3152ce7425eacc9c6d7ea5ddc8ad = L.popup({&quot;maxWidth&quot;: &quot;100%&quot;});\n\n        \n            \n                var html_38d3b405920184ca1e447887a66ab20e = $(`&lt;div id=&quot;html_38d3b405920184ca1e447887a66ab20e&quot; style=&quot;width: 100.0%; height: 100.0%;&quot;&gt;Closest City: Titusville&lt;/div&gt;`)[0];\n                popup_779c3152ce7425eacc9c6d7ea5ddc8ad.setContent(html_38d3b405920184ca1e447887a66ab20e);\n            \n        \n\n        marker_e5fd9d4c144b6f7e8890c637f2c1d87a.bindPopup(popup_779c3152ce7425eacc9c6d7ea5ddc8ad)\n        ;\n\n        \n    \n    \n            var marker_02875dbde9415dddcbf304c94b0fea47 = L.marker(\n                [28.612, -80.8075],\n                {}\n            ).addTo(map_125a336e72063e2140c246d391bf8377);\n        \n    \n            var div_icon_4929d20b30b16b5d2a6925e70acfad63 = L.divIcon({&quot;className&quot;: &quot;empty&quot;, &quot;html&quot;: &quot;\\u003cdiv style=\\&quot;font-size: 12; color:#d35400;\\&quot;\\u003e\\u003cb\\u003e     23.14 KM\\u003c/b\\u003e\\u003c/div\\u003e&quot;, &quot;iconAnchor&quot;: [0, 0], &quot;iconSize&quot;: [20, 20]});\n            marker_02875dbde9415dddcbf304c94b0fea47.setIcon(div_icon_4929d20b30b16b5d2a6925e70acfad63);\n        \n    \n            var poly_line_72969fb6e7eb5dc561973fc5a5cd7541 = L.polyline(\n                [[28.562302, -80.577356], [28.612, -80.8075]],\n                {&quot;bubblingMouseEvents&quot;: true, &quot;color&quot;: &quot;blue&quot;, &quot;dashArray&quot;: null, &quot;dashOffset&quot;: null, &quot;fill&quot;: false, &quot;fillColor&quot;: &quot;blue&quot;, &quot;fillOpacity&quot;: 0.2, &quot;fillRule&quot;: &quot;evenodd&quot;, &quot;lineCap&quot;: &quot;round&quot;, &quot;lineJoin&quot;: &quot;round&quot;, &quot;noClip&quot;: false, &quot;opacity&quot;: 1.0, &quot;smoothFactor&quot;: 1.0, &quot;stroke&quot;: true, &quot;weight&quot;: 1}\n            ).addTo(map_125a336e72063e2140c246d391bf8377);\n        \n    \n            var marker_8aa3718db05fe721052dfcc7ff49f610 = L.marker(\n                [28.572, -80.654],\n                {}\n            ).addTo(map_125a336e72063e2140c246d391bf8377);\n        \n    \n            var icon_cc9bb05c40a11a5f5e8583e9b2a60b97 = L.AwesomeMarkers.icon(\n                {&quot;extraClasses&quot;: &quot;fa-rotate-0&quot;, &quot;icon&quot;: &quot;info-sign&quot;, &quot;iconColor&quot;: &quot;white&quot;, &quot;markerColor&quot;: &quot;red&quot;, &quot;prefix&quot;: &quot;glyphicon&quot;}\n            );\n            marker_8aa3718db05fe721052dfcc7ff49f610.setIcon(icon_cc9bb05c40a11a5f5e8583e9b2a60b97);\n        \n    \n        var popup_c9f981bd4fd2820f80a5787ecd793bf0 = L.popup({&quot;maxWidth&quot;: &quot;100%&quot;});\n\n        \n            \n                var html_1cb991225c6b09960036036f87f21770 = $(`&lt;div id=&quot;html_1cb991225c6b09960036036f87f21770&quot; style=&quot;width: 100.0%; height: 100.0%;&quot;&gt;Closest Railway&lt;/div&gt;`)[0];\n                popup_c9f981bd4fd2820f80a5787ecd793bf0.setContent(html_1cb991225c6b09960036036f87f21770);\n            \n        \n\n        marker_8aa3718db05fe721052dfcc7ff49f610.bindPopup(popup_c9f981bd4fd2820f80a5787ecd793bf0)\n        ;\n\n        \n    \n    \n            var poly_line_817c1e98a16c99b8eab717781a15901f = L.polyline(\n                [[28.562302, -80.577356], [28.572, -80.654]],\n                {&quot;bubblingMouseEvents&quot;: true, &quot;color&quot;: &quot;red&quot;, &quot;dashArray&quot;: null, &quot;dashOffset&quot;: null, &quot;fill&quot;: false, &quot;fillColor&quot;: &quot;red&quot;, &quot;fillOpacity&quot;: 0.2, &quot;fillRule&quot;: &quot;evenodd&quot;, &quot;lineCap&quot;: &quot;round&quot;, &quot;lineJoin&quot;: &quot;round&quot;, &quot;noClip&quot;: false, &quot;opacity&quot;: 1.0, &quot;smoothFactor&quot;: 1.0, &quot;stroke&quot;: true, &quot;weight&quot;: 1}\n            ).addTo(map_125a336e72063e2140c246d391bf8377);\n        \n    \n            var marker_dac3ab0c03787e3c86468eb9e4665f32 = L.marker(\n                [28.571, -80.672],\n                {}\n            ).addTo(map_125a336e72063e2140c246d391bf8377);\n        \n    \n            var icon_7768dd3256d3140db400a2efe390ba85 = L.AwesomeMarkers.icon(\n                {&quot;extraClasses&quot;: &quot;fa-rotate-0&quot;, &quot;icon&quot;: &quot;info-sign&quot;, &quot;iconColor&quot;: &quot;white&quot;, &quot;markerColor&quot;: &quot;orange&quot;, &quot;prefix&quot;: &quot;glyphicon&quot;}\n            );\n            marker_dac3ab0c03787e3c86468eb9e4665f32.setIcon(icon_7768dd3256d3140db400a2efe390ba85);\n        \n    \n        var popup_1ab1c40511f0dd0a9bb56fef5a8bea2b = L.popup({&quot;maxWidth&quot;: &quot;100%&quot;});\n\n        \n            \n                var html_3bc113ed550541990964114fb5d5813f = $(`&lt;div id=&quot;html_3bc113ed550541990964114fb5d5813f&quot; style=&quot;width: 100.0%; height: 100.0%;&quot;&gt;Closest Highway&lt;/div&gt;`)[0];\n                popup_1ab1c40511f0dd0a9bb56fef5a8bea2b.setContent(html_3bc113ed550541990964114fb5d5813f);\n            \n        \n\n        marker_dac3ab0c03787e3c86468eb9e4665f32.bindPopup(popup_1ab1c40511f0dd0a9bb56fef5a8bea2b)\n        ;\n\n        \n    \n    \n            var poly_line_65cd457b511342638dc43db0425e7b33 = L.polyline(\n                [[28.562302, -80.577356], [28.571, -80.672]],\n                {&quot;bubblingMouseEvents&quot;: true, &quot;color&quot;: &quot;orange&quot;, &quot;dashArray&quot;: null, &quot;dashOffset&quot;: null, &quot;fill&quot;: false, &quot;fillColor&quot;: &quot;orange&quot;, &quot;fillOpacity&quot;: 0.2, &quot;fillRule&quot;: &quot;evenodd&quot;, &quot;lineCap&quot;: &quot;round&quot;, &quot;lineJoin&quot;: &quot;round&quot;, &quot;noClip&quot;: false, &quot;opacity&quot;: 1.0, &quot;smoothFactor&quot;: 1.0, &quot;stroke&quot;: true, &quot;weight&quot;: 1}\n            ).addTo(map_125a336e72063e2140c246d391bf8377);\n        \n&lt;/script&gt;\n&lt;/html&gt;\" style=\"position:absolute;width:100%;height:100%;left:0;top:0;border:none !important;\" allowfullscreen webkitallowfullscreen mozallowfullscreen></iframe></div></div>"
          },
          "metadata": {}
        }
      ],
      "execution_count": 26
    },
    {
      "cell_type": "code",
      "source": "",
      "metadata": {},
      "outputs": [],
      "execution_count": null
    },
    {
      "cell_type": "markdown",
      "source": "After you plot distance lines to the proximities, you can answer the following questions easily:\n\n*   Are launch sites in close proximity to railways?\n*   Are launch sites in close proximity to highways?\n*   Are launch sites in close proximity to coastline?\n*   Do launch sites keep certain distance away from cities?\n\nAlso please try to explain your findings.\n",
      "metadata": {}
    },
    {
      "cell_type": "markdown",
      "source": "#My Input\n1. Are launch sites in close proximity to railways?\nAnswer: Yes, the launch sites tend to be located near railways. Railways are often used for transporting large equipment, including rockets, to the launch sites.\nExplanation: Proximity to railways is a logistical advantage for transporting heavy and large rocket components overland, as rail is more efficient for long-distance hauling compared to roads.\n2. Are launch sites in close proximity to highways?\nAnswer: Yes, launch sites are typically near highways.\nExplanation: Highways allow for easier access by personnel, equipment, and materials. Being near a major road network supports the daily operations and construction needs of the space industry.\n3. Are launch sites in close proximity to coastline?\nAnswer: Yes, launch sites are generally located very close to the coastline.\nExplanation: Launch sites are often placed near coastlines to allow rockets to launch over water, minimizing the risk to populated areas. Additionally, if a rocket fails, the debris can fall into the ocean, reducing the potential for harm.\n4. Do launch sites keep a certain distance away from cities?\nAnswer: Yes, launch sites are typically located away from densely populated cities.\nExplanation: Launches carry risks such as explosions or falling debris. By keeping a certain distance from cities, the potential impact on human life and property is minimized. This distance also ensures that any potential hazards from the launch are contained.\nSummary of Findings:\nProximity to Railways and Highways: Launch sites are generally close to railways and highways, which helps facilitate transport of heavy rocket components and support the overall infrastructure needed for launch operations.\nProximity to Coastline: Launch sites are deliberately located near coastlines to reduce risk to people and infrastructure by launching over open water.\nDistance from Cities: Launch sites are kept away from cities to minimize risks related to rocket launches, such as accidents or noise pollution, and to provide a safety buffer.\nThe strategic placement of launch sites ensures both operational efficiency and public safety.",
      "metadata": {}
    },
    {
      "cell_type": "markdown",
      "source": "# Next Steps:\n\nNow you have discovered many interesting insights related to the launch sites' location using folium, in a very interactive way. Next, you will need to build a dashboard using Ploty Dash on detailed launch records.\n",
      "metadata": {}
    },
    {
      "cell_type": "markdown",
      "source": "## Authors\n",
      "metadata": {}
    },
    {
      "cell_type": "markdown",
      "source": "[Pratiksha Verma](https://www.linkedin.com/in/pratiksha-verma-6487561b1/)\n",
      "metadata": {}
    },
    {
      "cell_type": "markdown",
      "source": "<!--## Change Log--!>\n",
      "metadata": {}
    },
    {
      "cell_type": "markdown",
      "source": "<!--| Date (YYYY-MM-DD) | Version | Changed By      | Change Description      |\n| ----------------- | ------- | -------------   | ----------------------- |\n| 2022-11-09        | 1.0     | Pratiksha Verma | Converted initial version to Jupyterlite|--!>\n",
      "metadata": {}
    },
    {
      "cell_type": "markdown",
      "source": "### <h3 align=\"center\"> IBM Corporation 2022. All rights reserved. <h3/>\n",
      "metadata": {}
    }
  ]
}